{
  "cells": [
    {
      "cell_type": "markdown",
      "source": [
        "# Automated ML\n",
        "\n",
        "TODO: Import Dependencies. In the cell below, import all the dependencies that you will need to complete the project."
      ],
      "metadata": {}
    },
    {
      "cell_type": "code",
      "source": [
        "from azureml.train.automl import AutoMLConfig\r\n",
        "from azureml.core import Workspace, Experiment\r\n",
        "from azureml.data.dataset_factory import TabularDatasetFactory\r\n",
        "from sklearn.model_selection import train_test_split\r\n",
        "from azureml.core import Dataset\r\n",
        "from azureml.core import Model\r\n",
        "from azureml.core import Environment"
      ],
      "outputs": [],
      "execution_count": 8,
      "metadata": {
        "gather": {
          "logged": 1686094288889
        },
        "jupyter": {
          "outputs_hidden": false,
          "source_hidden": false
        },
        "nteract": {
          "transient": {
            "deleting": false
          }
        }
      }
    },
    {
      "cell_type": "markdown",
      "source": [
        "## Dataset\n",
        "\n",
        "### Overview\n",
        "TODO: In this markdown cell, give an overview of the dataset you are using. Also mention the task you will be performing.\n",
        "\n",
        "\n",
        "TODO: Get data. In the cell below, write code to access the data you will be using in this project. Remember that the dataset needs to be external."
      ],
      "metadata": {}
    },
    {
      "cell_type": "code",
      "source": [
        "myenv = Environment(name = \"myenv\")"
      ],
      "outputs": [],
      "execution_count": 9,
      "metadata": {
        "jupyter": {
          "source_hidden": false,
          "outputs_hidden": false
        },
        "nteract": {
          "transient": {
            "deleting": false
          }
        },
        "gather": {
          "logged": 1686094290812
        }
      }
    },
    {
      "cell_type": "code",
      "source": [
        "ws = Workspace.from_config()\n",
        "myenv.register(workspace=ws)\n",
        "\n",
        "# choose a name for experiment\n",
        "experiment_name = 'auto_ml_experiment'\n",
        "\n",
        "experiment=Experiment(ws, experiment_name)\n",
        "\n",
        "\n",
        "datastore = ws.get_default_datastore()\n",
        "datastore.upload_files(files = ['./cleandata.csv'],\n",
        "                       target_path = 'train-dataset/tabular/',\n",
        "                       overwrite = True,\n",
        "                       show_progress = True)\n",
        "\n",
        "ds = Dataset.Tabular.from_delimited_files(path = [(datastore, 'train-dataset/tabular/cleandata.csv')])\n",
        "\n",
        "df = ds.to_pandas_dataframe()\n",
        "\n",
        "x_col = ['Avg_Sleepiness', 'People_Queried_About_Sleep', 'raw_Crashes_per_Year','Avg_Crash_Severity','Percent_Morning_Crashes','Percent_Evening_Crashes','Crashes_per_Year']\n",
        "y_col = ['State']\n",
        "x_df = df.loc[:, x_col]\n",
        "y_df = df.loc[:, y_col]\n",
        "\n",
        "x_train, x_test = train_test_split(x_df, shuffle=False)\n",
        "y_train, y_test = train_test_split(y_df, shuffle=False)"
      ],
      "outputs": [
        {
          "output_type": "stream",
          "name": "stdout",
          "text": "Uploading an estimated of 1 files\nUploading ./cleandata.csv\nUploaded ./cleandata.csv, 1 files out of an estimated total of 1\nUploaded 1 files\n"
        }
      ],
      "execution_count": 10,
      "metadata": {
        "gather": {
          "logged": 1686094295658
        },
        "jupyter": {
          "outputs_hidden": false,
          "source_hidden": false
        },
        "nteract": {
          "transient": {
            "deleting": false
          }
        }
      }
    },
    {
      "cell_type": "markdown",
      "source": [
        "## AutoML Configuration\n",
        "\n",
        "TODO: Explain why you chose the automl settings and cofiguration you used below."
      ],
      "metadata": {}
    },
    {
      "cell_type": "code",
      "source": [
        "# TODO: Put your automl settings here\n",
        "automl_settings = {}\n",
        "\n",
        "# TODO: Put your automl config here\n",
        "automl_config = AutoMLConfig(\n",
        "    experiment_timeout_minutes=30,\n",
        "    task=\"classification\",\n",
        "    primary_metric=\"accuracy\",\n",
        "    training_data=x_train,\n",
        "    label_column_name='Crashes_per_Year',\n",
        "    n_cross_validations=5\n",
        ")"
      ],
      "outputs": [],
      "execution_count": 13,
      "metadata": {
        "gather": {
          "logged": 1686094430907
        },
        "jupyter": {
          "outputs_hidden": false,
          "source_hidden": false
        },
        "nteract": {
          "transient": {
            "deleting": false
          }
        }
      }
    },
    {
      "cell_type": "code",
      "source": [
        "# TODO: Submit your experiment\n",
        "remote_run = experiment.submit(automl_config, show_output=True)"
      ],
      "outputs": [
        {
          "output_type": "stream",
          "name": "stdout",
          "text": "No run_configuration provided, running on local with default configuration\nRunning in the active local environment.\n"
        },
        {
          "output_type": "display_data",
          "data": {
            "text/plain": "<IPython.core.display.HTML object>",
            "text/html": "<table style=\"width:100%\"><tr><th>Experiment</th><th>Id</th><th>Type</th><th>Status</th><th>Details Page</th><th>Docs Page</th></tr><tr><td>auto_ml_experiment</td><td>AutoML_ccf837c6-9237-4644-92e9-92916784c721</td><td>automl</td><td>Preparing</td><td><a href=\"https://ml.azure.com/runs/AutoML_ccf837c6-9237-4644-92e9-92916784c721?wsid=/subscriptions/d7f39349-a66b-446e-aba6-0053c2cf1c11/resourcegroups/aml-quickstarts-235202/workspaces/quick-starts-ws-235202&amp;tid=660b3398-b80e-49d2-bc5b-ac1dc93b5254\" target=\"_blank\" rel=\"noopener\">Link to Azure Machine Learning studio</a></td><td><a href=\"https://docs.microsoft.com/en-us/python/api/overview/azure/ml/intro?view=azure-ml-py\" target=\"_blank\" rel=\"noopener\">Link to Documentation</a></td></tr></table>"
          },
          "metadata": {}
        },
        {
          "output_type": "stream",
          "name": "stdout",
          "text": "Current status: DatasetEvaluation. Gathering dataset statistics.\nCurrent status: FeaturesGeneration. Generating features for the dataset.\nCurrent status: DatasetFeaturization. Beginning to fit featurizers and featurize the dataset.\nCurrent status: DatasetFeaturizationCompleted. Completed fit featurizers and featurizing the dataset.\nCurrent status: DatasetCrossValidationSplit. Generating individually featurized CV splits.\n\n********************************************************************************************\nDATA GUARDRAILS: \n\nTYPE:         Class balancing detection\nSTATUS:       PASSED\nDESCRIPTION:  Your inputs were analyzed, and all classes are balanced in your training data.\n              Learn more about imbalanced data: https://aka.ms/AutomatedMLImbalancedData\n\n********************************************************************************************\n\nTYPE:         Missing feature values imputation\nSTATUS:       PASSED\nDESCRIPTION:  No feature missing values were detected in the training data.\n              Learn more about missing value imputation: https://aka.ms/AutomatedMLFeaturization\n\n********************************************************************************************\n\nTYPE:         High cardinality feature detection\nSTATUS:       PASSED\nDESCRIPTION:  Your inputs were analyzed, and no high cardinality features were detected.\n              Learn more about high cardinality feature handling: https://aka.ms/AutomatedMLFeaturization\n\n********************************************************************************************\nCurrent status: ModelSelection. Beginning model selection.\n\n********************************************************************************************\nITER: The iteration being evaluated.\nPIPELINE: A summary description of the pipeline being evaluated.\nDURATION: Time taken for the current iteration.\nMETRIC: The result of computing score on the fitted pipeline.\nBEST: The best observed score thus far.\n********************************************************************************************\n\n ITER   PIPELINE                                       DURATION            METRIC      BEST\n    0   MaxAbsScaler LightGBM                          0:01:17             0.1239    0.1239\n    1   Received interrupt. Returning now.\n"
        },
        {
          "output_type": "stream",
          "name": "stderr",
          "text": "2023/06/06 23:35:03 WARNING mlflow.sklearn: Model was missing function: predict. Not logging python_function flavor!\n"
        }
      ],
      "execution_count": 14,
      "metadata": {
        "gather": {
          "logged": 1686094610208
        },
        "jupyter": {
          "outputs_hidden": false,
          "source_hidden": false
        },
        "nteract": {
          "transient": {
            "deleting": false
          }
        }
      }
    },
    {
      "cell_type": "markdown",
      "source": [
        "## Run Details\n",
        "\n",
        "OPTIONAL: Write about the different models trained and their performance. Why do you think some models did better than others?\n",
        "\n",
        "TODO: In the cell below, use the `RunDetails` widget to show the different experiments."
      ],
      "metadata": {}
    },
    {
      "cell_type": "code",
      "source": [
        "from azureml.widgets import RunDetails\r\n",
        "RunDetails(remote_run).show()"
      ],
      "outputs": [
        {
          "output_type": "display_data",
          "data": {
            "text/plain": "_AutoMLWidget(widget_settings={'childWidgetDisplay': 'popup', 'send_telemetry': False, 'log_level': 'INFO', 's…",
            "application/vnd.jupyter.widget-view+json": {
              "version_major": 2,
              "version_minor": 0,
              "model_id": "22038f8c11404d76b716c78e37d07da8"
            }
          },
          "metadata": {}
        },
        {
          "output_type": "display_data",
          "data": {
            "application/aml.mini.widget.v1": "\"ServiceException:\\n\\tCode: 404\\n\\tMessage: (UserError) Run AutoML_ccf837c6-9237-4644-92e9-92916784c721 was not found\\n\\tDetails:\\n\\n\\tHeaders: {\\n\\t    \\\"Date\\\": \\\"Wed, 07 Jun 2023 00:09:52 GMT\\\",\\n\\t    \\\"Content-Type\\\": \\\"application/json; charset=utf-8\\\",\\n\\t    \\\"Transfer-Encoding\\\": \\\"chunked\\\",\\n\\t    \\\"Connection\\\": \\\"keep-alive\\\",\\n\\t    \\\"Vary\\\": \\\"Accept-Encoding\\\",\\n\\t    \\\"Request-Context\\\": \\\"appId=cid-v1:6a27ce65-5555-41a3-85f7-b7a1ce31fd6b\\\",\\n\\t    \\\"x-ms-response-type\\\": \\\"error\\\",\\n\\t    \\\"Strict-Transport-Security\\\": \\\"max-age=15724800; includeSubDomains; preload\\\",\\n\\t    \\\"X-Content-Type-Options\\\": \\\"nosniff\\\",\\n\\t    \\\"x-aml-cluster\\\": \\\"vienna-westeurope-01\\\",\\n\\t    \\\"x-request-time\\\": \\\"0.046\\\",\\n\\t    \\\"Content-Encoding\\\": \\\"gzip\\\"\\n\\t}\\n\\tInnerException: {\\n    \\\"additional_properties\\\": {},\\n    \\\"error\\\": {\\n        \\\"additional_properties\\\": {\\n            \\\"debugInfo\\\": null\\n        },\\n        \\\"code\\\": \\\"UserError\\\",\\n        \\\"severity\\\": null,\\n        \\\"message\\\": \\\"Run AutoML_ccf837c6-9237-4644-92e9-92916784c721 was not found\\\",\\n        \\\"message_format\\\": \\\"Run {runId} was not found\\\",\\n        \\\"message_parameters\\\": {\\n            \\\"runId\\\": \\\"AutoML_ccf837c6-9237-4644-92e9-92916784c721\\\"\\n        },\\n        \\\"reference_code\\\": null,\\n        \\\"details_uri\\\": null,\\n        \\\"target\\\": null,\\n        \\\"details\\\": [],\\n        \\\"inner_error\\\": {\\n            \\\"additional_properties\\\": {},\\n            \\\"code\\\": \\\"NotFoundError\\\",\\n            \\\"inner_error\\\": null\\n        },\\n        \\\"additional_info\\\": null\\n    },\\n    \\\"correlation\\\": {\\n        \\\"operation\\\": \\\"ea80d9dfa233a270129a4920b0a77d9c\\\",\\n        \\\"request\\\": \\\"9201b989186cd0af\\\"\\n    },\\n    \\\"environment\\\": \\\"westeurope\\\",\\n    \\\"location\\\": \\\"westeurope\\\",\\n    \\\"time\\\": {},\\n    \\\"component_name\\\": \\\"run-history\\\"\\n}\""
          },
          "metadata": {}
        }
      ],
      "execution_count": 21,
      "metadata": {
        "gather": {
          "logged": 1686094733593
        },
        "jupyter": {
          "outputs_hidden": false,
          "source_hidden": false
        },
        "nteract": {
          "transient": {
            "deleting": false
          }
        }
      }
    },
    {
      "cell_type": "markdown",
      "source": [
        "## Best Model\n",
        "\n",
        "TODO: In the cell below, get the best model from the automl experiments and display all the properties of the model.\n",
        "\n"
      ],
      "metadata": {}
    },
    {
      "cell_type": "code",
      "source": [
        "best_model = remote_run.get_best_child()\r\n",
        "print(best_model)"
      ],
      "outputs": [
        {
          "output_type": "stream",
          "name": "stdout",
          "text": "Run(Experiment: auto_ml_experiment,\nId: AutoML_ccf837c6-9237-4644-92e9-92916784c721_0,\nType: None,\nStatus: Completed)\n"
        }
      ],
      "execution_count": 19,
      "metadata": {
        "gather": {
          "logged": 1686094711893
        },
        "jupyter": {
          "outputs_hidden": false,
          "source_hidden": false
        },
        "nteract": {
          "transient": {
            "deleting": false
          }
        }
      }
    },
    {
      "cell_type": "markdown",
      "source": [
        "## Model Deployment\n",
        "\n",
        "Remember you have to deploy only one of the two models you trained but you still need to register both the models. Perform the steps in the rest of this notebook only if you wish to deploy this model.\n",
        "\n",
        "TODO: In the cell below, register the model, create an inference config and deploy the model as a web service."
      ],
      "metadata": {}
    },
    {
      "cell_type": "code",
      "source": [
        "model_name = best_model.properties['model_name']\r\n",
        "model = best_model.register_model(model_name= model_name, model_path='outputs/model.pkl')"
      ],
      "outputs": [],
      "execution_count": 20,
      "metadata": {
        "gather": {
          "logged": 1686094723164
        },
        "jupyter": {
          "outputs_hidden": false,
          "source_hidden": false
        },
        "nteract": {
          "transient": {
            "deleting": false
          }
        }
      }
    },
    {
      "cell_type": "code",
      "source": [
        "from azureml.core.environment import Environment\n",
        "from azureml.automl.core.shared import constants\n",
        "from azureml.core.model import InferenceConfig\n",
        "\n",
        "best_model.download_file(constants.CONDA_ENV_FILE_PATH, 'depend.yml')\n",
        "myenv = Environment.from_conda_specification(name=\"myenv\", file_path=\"depend.yml\")\n",
        "inference_config = InferenceConfig(entry_script=\"score.py\", environment=myenv)"
      ],
      "outputs": [],
      "execution_count": 25,
      "metadata": {
        "jupyter": {
          "source_hidden": false,
          "outputs_hidden": false
        },
        "nteract": {
          "transient": {
            "deleting": false
          }
        },
        "gather": {
          "logged": 1686095669372
        }
      }
    },
    {
      "cell_type": "code",
      "source": [
        "from azureml.core.webservice import AciWebservice, Webservice\n",
        "from azureml.core.model import Model\n",
        "\n",
        "\n",
        "best_model.download_file('outputs/scoring_file_v_1_0_0.py', output_file_path='score.py')\n",
        "\n",
        "deployment_config = AciWebservice.deploy_configuration(cpu_cores = 1, memory_gb = 1)\n",
        "service = Model.deploy(ws, \"aciservice\", [model], inference_config, deployment_config)\n",
        "service.wait_for_deployment(show_output = True)\n",
        "print(service.state)"
      ],
      "outputs": [
        {
          "output_type": "stream",
          "name": "stdout",
          "text": "Tips: You can try get_logs(): https://aka.ms/debugimage#dockerlog or local deployment: https://aka.ms/debugimage#debug-locally to debug if deployment takes longer than 10 minutes.\nRunning\n2023-06-06 23:55:11+00:00 Creating Container Registry if not exists.\n2023-06-06 23:55:11+00:00 Registering the environment.\n2023-06-06 23:55:13+00:00 Building image."
        }
      ],
      "execution_count": 27,
      "metadata": {
        "jupyter": {
          "source_hidden": false,
          "outputs_hidden": false
        },
        "nteract": {
          "transient": {
            "deleting": false
          }
        },
        "gather": {
          "logged": 1686095674605
        }
      }
    },
    {
      "cell_type": "markdown",
      "source": [
        "TODO: In the cell below, send a request to the web service you deployed to test it."
      ],
      "metadata": {
        "collapsed": true,
        "gather": {
          "logged": 1598431657736
        },
        "jupyter": {
          "outputs_hidden": false,
          "source_hidden": false
        },
        "nteract": {
          "transient": {
            "deleting": false
          }
        }
      }
    },
    {
      "cell_type": "code",
      "source": [
        "from azureml.core.authentication import InteractiveLoginAuthentication\n",
        "\n",
        "interactive_auth = InteractiveLoginAuthentication()\n",
        "auth_header = interactive_auth.get_authentication_header()"
      ],
      "outputs": [],
      "execution_count": 30,
      "metadata": {
        "gather": {
          "logged": 1686097270675
        },
        "jupyter": {
          "outputs_hidden": false,
          "source_hidden": false
        },
        "nteract": {
          "transient": {
            "deleting": false
          }
        }
      }
    },
    {
      "cell_type": "code",
      "source": [
        "import requests\n",
        "import json\n",
        "\n",
        "# URL for the web service\n",
        "scoring_uri = service.scoring_uri\n",
        "\n",
        "# Two sets of data to score, so we get two results back\n",
        "data = {\n",
        "  \"data\": [\n",
        "    {\n",
        "      \"Avg_Crash_Severity\": 1.0,\n",
        "      \"Avg_Sleepiness\": \"36%\",\n",
        "      \"People_Queried_About_Sleep\": 1000,\n",
        "      \"Percent_Evening_Crashes\": \"50%\",\n",
        "      \"Percent_Morning_Crashes\": \"50%\",\n",
        "      \"raw_Crashes_per_Year\": 1.0\n",
        "    }\n",
        "  ],\n",
        "  \"method\": \"predict\"\n",
        "}\n",
        "# Convert to JSON string\n",
        "input_data = json.dumps(data)\n",
        "\n",
        "# Set the content type\n",
        "headers = {'Content-Type': 'application/json'}\n",
        "# If authentication is enabled, set the authorization header\n",
        "\n",
        "# Make the request and display the response\n",
        "resp = requests.post(scoring_uri, input_data, headers=headers)\n",
        "print(resp.text)"
      ],
      "outputs": [
        {
          "output_type": "stream",
          "name": "stdout",
          "text": "\"{\\\"result\\\": [0.0154494382022472]}\"\n"
        }
      ],
      "execution_count": 38,
      "metadata": {
        "jupyter": {
          "source_hidden": false,
          "outputs_hidden": false
        },
        "nteract": {
          "transient": {
            "deleting": false
          }
        },
        "gather": {
          "logged": 1686097898786
        }
      }
    },
    {
      "cell_type": "markdown",
      "source": [
        "TODO: In the cell below, print the logs of the web service and delete the service"
      ],
      "metadata": {
        "collapsed": true,
        "gather": {
          "logged": 1598432765711
        },
        "jupyter": {
          "outputs_hidden": false,
          "source_hidden": false
        },
        "nteract": {
          "transient": {
            "deleting": false
          }
        }
      }
    },
    {
      "cell_type": "code",
      "source": [],
      "outputs": [],
      "execution_count": null,
      "metadata": {
        "jupyter": {
          "outputs_hidden": false,
          "source_hidden": false
        },
        "nteract": {
          "transient": {
            "deleting": false
          }
        }
      }
    },
    {
      "cell_type": "markdown",
      "source": [
        "**Submission Checklist**\n",
        "- I have registered the model.\n",
        "- I have deployed the model with the best accuracy as a webservice.\n",
        "- I have tested the webservice by sending a request to the model endpoint.\n",
        "- I have deleted the webservice and shutdown all the computes that I have used.\n",
        "- I have taken a screenshot showing the model endpoint as active.\n",
        "- The project includes a file containing the environment details.\n"
      ],
      "metadata": {}
    },
    {
      "cell_type": "markdown",
      "source": [],
      "metadata": {}
    }
  ],
  "metadata": {
    "kernel_info": {
      "name": "python38-azureml"
    },
    "kernelspec": {
      "name": "python38-azureml",
      "language": "python",
      "display_name": "Python 3.8 - AzureML"
    },
    "language_info": {
      "name": "python",
      "version": "3.8.5",
      "mimetype": "text/x-python",
      "codemirror_mode": {
        "name": "ipython",
        "version": 3
      },
      "pygments_lexer": "ipython3",
      "nbconvert_exporter": "python",
      "file_extension": ".py"
    },
    "nteract": {
      "version": "nteract-front-end@1.0.0"
    },
    "microsoft": {
      "host": {
        "AzureML": {
          "notebookHasBeenCompleted": true
        }
      },
      "ms_spell_check": {
        "ms_spell_check_language": "en"
      }
    }
  },
  "nbformat": 4,
  "nbformat_minor": 2
}