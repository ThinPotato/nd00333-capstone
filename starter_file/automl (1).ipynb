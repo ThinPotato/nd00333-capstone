{
  "cells": [
    {
      "cell_type": "markdown",
      "source": [
        "# Automated ML\n",
        "\n",
        "TODO: Import Dependencies. In the cell below, import all the dependencies that you will need to complete the project."
      ],
      "metadata": {}
    },
    {
      "cell_type": "code",
      "source": [
        "from azureml.train.automl import AutoMLConfig\r\n",
        "from azureml.core import Workspace, Experiment\r\n",
        "from azureml.data.dataset_factory import TabularDatasetFactory\r\n",
        "from sklearn.model_selection import train_test_split\r\n",
        "from azureml.core import Dataset\r\n",
        "from azureml.core import Model"
      ],
      "outputs": [],
      "execution_count": 20,
      "metadata": {
        "gather": {
          "logged": 1683732667899
        },
        "jupyter": {
          "outputs_hidden": false,
          "source_hidden": false
        },
        "nteract": {
          "transient": {
            "deleting": false
          }
        }
      }
    },
    {
      "cell_type": "markdown",
      "source": [
        "## Dataset\n",
        "\n",
        "### Overview\n",
        "TODO: In this markdown cell, give an overview of the dataset you are using. Also mention the task you will be performing.\n",
        "\n",
        "\n",
        "TODO: Get data. In the cell below, write code to access the data you will be using in this project. Remember that the dataset needs to be external."
      ],
      "metadata": {}
    },
    {
      "cell_type": "code",
      "source": [
        "ws = Workspace.from_config()\n",
        "\n",
        "# choose a name for experiment\n",
        "experiment_name = 'auto_ml_experiment'\n",
        "\n",
        "experiment=Experiment(ws, experiment_name)\n",
        "\n",
        "\n",
        "datastore = ws.get_default_datastore()\n",
        "datastore.upload_files(files = ['./cleandata.csv'],\n",
        "                       target_path = 'train-dataset/tabular/',\n",
        "                       overwrite = True,\n",
        "                       show_progress = True)\n",
        "\n",
        "ds = Dataset.Tabular.from_delimited_files(path = [(datastore, 'train-dataset/tabular/cleandata.csv')])\n",
        "\n",
        "df = ds.to_pandas_dataframe()\n",
        "\n",
        "x_col = ['Avg_Sleepiness', 'People_Queried_About_Sleep', 'raw_Crashes_per_Year','Avg_Crash_Severity','Percent_Morning_Crashes','Percent_Evening_Crashes','Crashes_per_Year']\n",
        "y_col = ['State']\n",
        "x_df = df.loc[:, x_col]\n",
        "y_df = df.loc[:, y_col]\n",
        "\n",
        "x_train, x_test = train_test_split(x_df, shuffle=False)\n",
        "y_train, y_test = train_test_split(y_df, shuffle=False)"
      ],
      "outputs": [
        {
          "output_type": "stream",
          "name": "stderr",
          "text": "\"datastore.upload_files\" is deprecated after version 1.0.69. Please use \"FileDatasetFactory.upload_directory\" instead. See Dataset API change notice at https://aka.ms/dataset-deprecation.\n"
        },
        {
          "output_type": "stream",
          "name": "stdout",
          "text": "Uploading an estimated of 1 files\nUploading ./cleandata.csv\nUploaded ./cleandata.csv, 1 files out of an estimated total of 1\nUploaded 1 files\n"
        }
      ],
      "execution_count": 12,
      "metadata": {
        "gather": {
          "logged": 1683727351627
        },
        "jupyter": {
          "outputs_hidden": false,
          "source_hidden": false
        },
        "nteract": {
          "transient": {
            "deleting": false
          }
        }
      }
    },
    {
      "cell_type": "markdown",
      "source": [
        "## AutoML Configuration\n",
        "\n",
        "TODO: Explain why you chose the automl settings and cofiguration you used below."
      ],
      "metadata": {}
    },
    {
      "cell_type": "code",
      "source": [
        "# TODO: Put your automl settings here\n",
        "automl_settings = {}\n",
        "\n",
        "# TODO: Put your automl config here\n",
        "automl_config = AutoMLConfig(\n",
        "    experiment_timeout_minutes=30,\n",
        "    task=\"classification\",\n",
        "    primary_metric=\"accuracy\",\n",
        "    training_data=x_train,\n",
        "    label_column_name='Crashes_per_Year',\n",
        "    n_cross_validations=5\n",
        ")"
      ],
      "outputs": [],
      "execution_count": 13,
      "metadata": {
        "gather": {
          "logged": 1683727465805
        },
        "jupyter": {
          "outputs_hidden": false,
          "source_hidden": false
        },
        "nteract": {
          "transient": {
            "deleting": false
          }
        }
      }
    },
    {
      "cell_type": "code",
      "source": [
        "# TODO: Submit your experiment\n",
        "remote_run = experiment.submit(automl_config, show_output=True)"
      ],
      "outputs": [
        {
          "output_type": "stream",
          "name": "stdout",
          "text": "No run_configuration provided, running on local with default configuration\nRunning in the active local environment.\n"
        },
        {
          "output_type": "display_data",
          "data": {
            "text/plain": "<IPython.core.display.HTML object>",
            "text/html": "<table style=\"width:100%\"><tr><th>Experiment</th><th>Id</th><th>Type</th><th>Status</th><th>Details Page</th><th>Docs Page</th></tr><tr><td>auto_ml_experiment</td><td>AutoML_9ce1be7f-4a78-4c80-88f1-72fafa36b811</td><td>automl</td><td>Preparing</td><td><a href=\"https://ml.azure.com/runs/AutoML_9ce1be7f-4a78-4c80-88f1-72fafa36b811?wsid=/subscriptions/1b944a9b-fdae-4f97-aeb1-b7eea0beac53/resourcegroups/aml-quickstarts-233435/workspaces/quick-starts-ws-233435&amp;tid=660b3398-b80e-49d2-bc5b-ac1dc93b5254\" target=\"_blank\" rel=\"noopener\">Link to Azure Machine Learning studio</a></td><td><a href=\"https://docs.microsoft.com/en-us/python/api/overview/azure/ml/intro?view=azure-ml-py\" target=\"_blank\" rel=\"noopener\">Link to Documentation</a></td></tr></table>"
          },
          "metadata": {}
        },
        {
          "output_type": "stream",
          "name": "stdout",
          "text": "Current status: DatasetEvaluation. Gathering dataset statistics.\nCurrent status: FeaturesGeneration. Generating features for the dataset.\nCurrent status: DatasetFeaturization. Beginning to fit featurizers and featurize the dataset.\nCurrent status: DatasetFeaturizationCompleted. Completed fit featurizers and featurizing the dataset.\nCurrent status: DatasetCrossValidationSplit. Generating individually featurized CV splits.\n\n********************************************************************************************\nDATA GUARDRAILS: \n\nTYPE:         Class balancing detection\nSTATUS:       PASSED\nDESCRIPTION:  Your inputs were analyzed, and all classes are balanced in your training data.\n              Learn more about imbalanced data: https://aka.ms/AutomatedMLImbalancedData\n\n********************************************************************************************\n\nTYPE:         Missing feature values imputation\nSTATUS:       PASSED\nDESCRIPTION:  No feature missing values were detected in the training data.\n              Learn more about missing value imputation: https://aka.ms/AutomatedMLFeaturization\n\n********************************************************************************************\n\nTYPE:         High cardinality feature detection\nSTATUS:       PASSED\nDESCRIPTION:  Your inputs were analyzed, and no high cardinality features were detected.\n              Learn more about high cardinality feature handling: https://aka.ms/AutomatedMLFeaturization\n\n********************************************************************************************\nCurrent status: ModelSelection. Beginning model selection.\n\n********************************************************************************************\nITER: The iteration being evaluated.\nPIPELINE: A summary description of the pipeline being evaluated.\nDURATION: Time taken for the current iteration.\nMETRIC: The result of computing score on the fitted pipeline.\nBEST: The best observed score thus far.\n********************************************************************************************\n\n ITER   PIPELINE                                       DURATION            METRIC      BEST\n    0   MaxAbsScaler LightGBM                          0:01:25             0.1239    0.1239\n    1   MaxAbsScaler XGBoostClassifier                 0:01:22             0.0561    0.1239\n    2   MaxAbsScaler ExtremeRandomTrees                0:00:49             0.0118    0.1239\n    3   SparseNormalizer XGBoostClassifier             0:00:52             0.0029    0.1239\n    4   MaxAbsScaler LightGBM                          0:00:47             0.0059    0.1239\n    5   MaxAbsScaler LightGBM                          0:00:49             0.0000    0.1239\n    6   StandardScalerWrapper XGBoostClassifier        0:00:51             0.0059    0.1239\n    7   MaxAbsScaler LogisticRegression                0:00:50             0.0443    0.1239\n    8   StandardScalerWrapper ExtremeRandomTrees       0:00:49             0.0295    0.1239\n    9   StandardScalerWrapper XGBoostClassifier        0:00:51             0.0029    0.1239\n   10   SparseNormalizer LightGBM                      0:00:48             0.0059    0.1239\n   11   StandardScalerWrapper XGBoostClassifier        0:00:50             0.0207    0.1239\n   12   MaxAbsScaler LogisticRegression                0:00:57             0.0561    0.1239\n   13   StandardScalerWrapper XGBoostClassifier        0:00:49             0.0000    0.1239\n   14   SparseNormalizer RandomForest                  0:00:48             0.0531    0.1239\n   15   StandardScalerWrapper LogisticRegression       0:01:50             0.0619    0.1239\n   16   StandardScalerWrapper RandomForest             0:00:46             0.0679    0.1239\n   17   StandardScalerWrapper XGBoostClassifier        0:00:56             0.0177    0.1239\n   18   TruncatedSVDWrapper RandomForest               0:00:59             0.0590    0.1239\n   19   TruncatedSVDWrapper RandomForest               0:01:32             0.0561    0.1239\n   20   StandardScalerWrapper XGBoostClassifier        0:00:55             0.0561    0.1239\n   21   SparseNormalizer XGBoostClassifier             0:00:50             0.0059    0.1239\n   22   StandardScalerWrapper LogisticRegression       0:00:51             0.0501    0.1239\n   23   MaxAbsScaler ExtremeRandomTrees                0:00:49             0.0324    0.1239\n   24   MaxAbsScaler LogisticRegression                0:01:07             0.0383    0.1239\n   25   SparseNormalizer LightGBM                      0:01:02             0.0088    0.1239\n   26   TruncatedSVDWrapper LogisticRegression         0:02:43             0.0207    0.1239\n   27   VotingEnsemble                                 0:00:55             0.1269    0.1269\n   28   StackEnsemble                                  0:01:38             0.0531    0.1269\nStopping criteria reached at iteration 29. Ending experiment.\n********************************************************************************************\nCurrent status: BestRunExplainModel. Best run model explanations started\nCurrent status: ModelExplanationDataSetSetup. Model explanations data setup completed\nCurrent status: PickSurrogateModel. Choosing LightGBM as the surrogate model for explanations\nCurrent status: EngineeredFeatureExplanations. Computation of engineered features started\nCurrent status: EngineeredFeatureExplanations. Computation of engineered features completed\nCurrent status: RawFeaturesExplanations. Computation of raw features started\nCurrent status: RawFeaturesExplanations. Computation of raw features completed\nCurrent status: BestRunExplainModel. Best run model explanations completed\n********************************************************************************************\n"
        },
        {
          "output_type": "stream",
          "name": "stderr",
          "text": "2023/05/10 14:07:00 WARNING mlflow.sklearn: Model was missing function: predict. Not logging python_function flavor!\n2023-05-10:14:37:17,88 WARNING  [_docstring_wrapper.py:27] Class StackEnsembleClassifier: This is an experimental class, and may change at any time. Please see https://aka.ms/azuremlexperimental for more information.\n2023-05-10:14:37:17,551 WARNING  [_docstring_wrapper.py:27] Class StackEnsembleClassifier: This is an experimental class, and may change at any time. Please see https://aka.ms/azuremlexperimental for more information.\n2023-05-10:14:37:17,554 WARNING  [_docstring_wrapper.py:27] Class StackEnsembleClassifier: This is an experimental class, and may change at any time. Please see https://aka.ms/azuremlexperimental for more information.\n2023-05-10:14:37:18,991 WARNING  [_docstring_wrapper.py:27] Class StackEnsembleClassifier: This is an experimental class, and may change at any time. Please see https://aka.ms/azuremlexperimental for more information.\n2023-05-10:14:37:18,999 WARNING  [_docstring_wrapper.py:27] Class StackEnsembleClassifier: This is an experimental class, and may change at any time. Please see https://aka.ms/azuremlexperimental for more information.\n2023-05-10:14:37:19,0 WARNING  [_docstring_wrapper.py:27] Class StackEnsembleClassifier: This is an experimental class, and may change at any time. Please see https://aka.ms/azuremlexperimental for more information.\n2023-05-10:14:37:19,625 WARNING  [_docstring_wrapper.py:27] Class StackEnsembleClassifier: This is an experimental class, and may change at any time. Please see https://aka.ms/azuremlexperimental for more information.\n2023-05-10:14:37:19,627 WARNING  [_docstring_wrapper.py:27] Class StackEnsembleClassifier: This is an experimental class, and may change at any time. Please see https://aka.ms/azuremlexperimental for more information.\n2023-05-10:14:37:19,627 WARNING  [_docstring_wrapper.py:27] Class StackEnsembleClassifier: This is an experimental class, and may change at any time. Please see https://aka.ms/azuremlexperimental for more information.\n2023-05-10:14:37:19,628 WARNING  [_docstring_wrapper.py:27] Class StackEnsembleClassifier: This is an experimental class, and may change at any time. Please see https://aka.ms/azuremlexperimental for more information.\n2023-05-10:14:37:20,152 WARNING  [_docstring_wrapper.py:27] Class StackEnsembleClassifier: This is an experimental class, and may change at any time. Please see https://aka.ms/azuremlexperimental for more information.\n2023-05-10:14:37:20,154 WARNING  [_docstring_wrapper.py:27] Class StackEnsembleClassifier: This is an experimental class, and may change at any time. Please see https://aka.ms/azuremlexperimental for more information.\n2023-05-10:14:37:20,157 WARNING  [_docstring_wrapper.py:27] Class StackEnsembleClassifier: This is an experimental class, and may change at any time. Please see https://aka.ms/azuremlexperimental for more information.\n2023-05-10:14:37:20,158 WARNING  [_docstring_wrapper.py:27] Class StackEnsembleClassifier: This is an experimental class, and may change at any time. Please see https://aka.ms/azuremlexperimental for more information.\n2023-05-10:14:37:20,159 WARNING  [_docstring_wrapper.py:27] Class StackEnsembleClassifier: This is an experimental class, and may change at any time. Please see https://aka.ms/azuremlexperimental for more information.\n2023-05-10:14:37:20,789 WARNING  [_docstring_wrapper.py:27] Class StackEnsembleClassifier: This is an experimental class, and may change at any time. Please see https://aka.ms/azuremlexperimental for more information.\n2023-05-10:14:37:20,794 WARNING  [_docstring_wrapper.py:27] Class StackEnsembleClassifier: This is an experimental class, and may change at any time. Please see https://aka.ms/azuremlexperimental for more information.\n2023-05-10:14:37:20,797 WARNING  [_docstring_wrapper.py:27] Class StackEnsembleClassifier: This is an experimental class, and may change at any time. Please see https://aka.ms/azuremlexperimental for more information.\n2023-05-10:14:37:20,798 WARNING  [_docstring_wrapper.py:27] Class StackEnsembleClassifier: This is an experimental class, and may change at any time. Please see https://aka.ms/azuremlexperimental for more information.\n2023-05-10:14:37:20,799 WARNING  [_docstring_wrapper.py:27] Class StackEnsembleClassifier: This is an experimental class, and may change at any time. Please see https://aka.ms/azuremlexperimental for more information.\n2023-05-10:14:37:20,799 WARNING  [_docstring_wrapper.py:27] Class StackEnsembleClassifier: This is an experimental class, and may change at any time. Please see https://aka.ms/azuremlexperimental for more information.\n2023-05-10:14:41:01,725 INFO     [explanation_client.py:334] Using default datastore for uploads\n"
        }
      ],
      "execution_count": 14,
      "metadata": {
        "gather": {
          "logged": 1683729672075
        },
        "jupyter": {
          "outputs_hidden": false,
          "source_hidden": false
        },
        "nteract": {
          "transient": {
            "deleting": false
          }
        }
      }
    },
    {
      "cell_type": "markdown",
      "source": [
        "## Run Details\n",
        "\n",
        "OPTIONAL: Write about the different models trained and their performance. Why do you think some models did better than others?\n",
        "\n",
        "TODO: In the cell below, use the `RunDetails` widget to show the different experiments."
      ],
      "metadata": {}
    },
    {
      "cell_type": "code",
      "source": [
        "from azureml.widgets import RunDetails\r\n",
        "RunDetails(remote_run).show()"
      ],
      "outputs": [
        {
          "output_type": "display_data",
          "data": {
            "text/plain": "_AutoMLWidget(widget_settings={'childWidgetDisplay': 'popup', 'send_telemetry': False, 'log_level': 'INFO', 's…",
            "application/vnd.jupyter.widget-view+json": {
              "version_major": 2,
              "version_minor": 0,
              "model_id": "1a62aac9d4864dc9b3054e9cddd9fa43"
            }
          },
          "metadata": {}
        },
        {
          "output_type": "display_data",
          "data": {
            "application/aml.mini.widget.v1": "{\"status\": \"Completed\", \"workbench_run_details_uri\": \"https://ml.azure.com/runs/AutoML_9ce1be7f-4a78-4c80-88f1-72fafa36b811?wsid=/subscriptions/1b944a9b-fdae-4f97-aeb1-b7eea0beac53/resourcegroups/aml-quickstarts-233435/workspaces/quick-starts-ws-233435&tid=660b3398-b80e-49d2-bc5b-ac1dc93b5254\", \"run_id\": \"AutoML_9ce1be7f-4a78-4c80-88f1-72fafa36b811\", \"run_properties\": {\"run_id\": \"AutoML_9ce1be7f-4a78-4c80-88f1-72fafa36b811\", \"created_utc\": \"2023-05-10T14:05:38.672856Z\", \"properties\": {\"num_iterations\": \"1000\", \"training_type\": \"TrainFull\", \"acquisition_function\": \"EI\", \"primary_metric\": \"accuracy\", \"train_split\": \"0\", \"acquisition_parameter\": \"0\", \"num_cross_validation\": \"5\", \"target\": \"local\", \"AMLSettingsJsonString\": \"{\\\"path\\\":null,\\\"name\\\":\\\"auto_ml_experiment\\\",\\\"subscription_id\\\":\\\"1b944a9b-fdae-4f97-aeb1-b7eea0beac53\\\",\\\"resource_group\\\":\\\"aml-quickstarts-233435\\\",\\\"workspace_name\\\":\\\"quick-starts-ws-233435\\\",\\\"region\\\":\\\"southcentralus\\\",\\\"compute_target\\\":\\\"local\\\",\\\"spark_service\\\":null,\\\"azure_service\\\":\\\"Microsoft.AzureNotebookVM\\\",\\\"many_models\\\":false,\\\"pipeline_fetch_max_batch_size\\\":1,\\\"enable_batch_run\\\":false,\\\"enable_parallel_run\\\":false,\\\"num_procs\\\":null,\\\"enable_run_restructure\\\":false,\\\"start_auxiliary_runs_before_parent_complete\\\":false,\\\"enable_code_generation\\\":true,\\\"iterations\\\":1000,\\\"primary_metric\\\":\\\"accuracy\\\",\\\"task_type\\\":\\\"classification\\\",\\\"positive_label\\\":null,\\\"data_script\\\":null,\\\"test_size\\\":0.0,\\\"test_include_predictions_only\\\":false,\\\"validation_size\\\":0.0,\\\"n_cross_validations\\\":5,\\\"y_min\\\":null,\\\"y_max\\\":null,\\\"num_classes\\\":null,\\\"featurization\\\":\\\"auto\\\",\\\"_ignore_package_version_incompatibilities\\\":false,\\\"is_timeseries\\\":false,\\\"max_cores_per_iteration\\\":1,\\\"max_concurrent_iterations\\\":1,\\\"iteration_timeout_minutes\\\":null,\\\"mem_in_mb\\\":null,\\\"enforce_time_on_windows\\\":false,\\\"experiment_timeout_minutes\\\":30,\\\"experiment_exit_score\\\":null,\\\"partition_column_names\\\":null,\\\"whitelist_models\\\":null,\\\"blacklist_algos\\\":[\\\"TensorFlowLinearClassifier\\\",\\\"TensorFlowDNN\\\"],\\\"supported_models\\\":[\\\"LogisticRegression\\\",\\\"XGBoostClassifier\\\",\\\"RandomForest\\\",\\\"ExtremeRandomTrees\\\",\\\"TensorFlowDNN\\\",\\\"KNN\\\",\\\"AveragedPerceptronClassifier\\\",\\\"TabnetClassifier\\\",\\\"SVM\\\",\\\"BernoulliNaiveBayes\\\",\\\"GradientBoosting\\\",\\\"LightGBM\\\",\\\"TensorFlowLinearClassifier\\\",\\\"DecisionTree\\\",\\\"LinearSVM\\\",\\\"SGD\\\",\\\"MultinomialNaiveBayes\\\"],\\\"private_models\\\":[],\\\"auto_blacklist\\\":true,\\\"blacklist_samples_reached\\\":false,\\\"exclude_nan_labels\\\":true,\\\"verbosity\\\":20,\\\"_debug_log\\\":\\\"automl.log\\\",\\\"show_warnings\\\":false,\\\"model_explainability\\\":true,\\\"service_url\\\":null,\\\"sdk_url\\\":null,\\\"sdk_packages\\\":null,\\\"enable_onnx_compatible_models\\\":false,\\\"enable_split_onnx_featurizer_estimator_models\\\":false,\\\"vm_type\\\":null,\\\"telemetry_verbosity\\\":20,\\\"send_telemetry\\\":true,\\\"enable_dnn\\\":false,\\\"scenario\\\":\\\"AutoML\\\",\\\"environment_label\\\":null,\\\"save_mlflow\\\":false,\\\"enable_categorical_indicators\\\":false,\\\"force_text_dnn\\\":false,\\\"enable_feature_sweeping\\\":true,\\\"enable_early_stopping\\\":true,\\\"early_stopping_n_iters\\\":10,\\\"arguments\\\":null,\\\"dataset_id\\\":null,\\\"hyperdrive_config\\\":null,\\\"validation_dataset_id\\\":null,\\\"run_source\\\":null,\\\"metrics\\\":null,\\\"enable_metric_confidence\\\":false,\\\"enable_ensembling\\\":true,\\\"enable_stack_ensembling\\\":true,\\\"ensemble_iterations\\\":15,\\\"enable_tf\\\":false,\\\"enable_subsampling\\\":null,\\\"subsample_seed\\\":null,\\\"enable_nimbusml\\\":false,\\\"enable_streaming\\\":false,\\\"force_streaming\\\":false,\\\"track_child_runs\\\":true,\\\"n_best_runs\\\":1,\\\"allowed_private_models\\\":[],\\\"label_column_name\\\":\\\"Crashes_per_Year\\\",\\\"weight_column_name\\\":null,\\\"cv_split_column_names\\\":null,\\\"enable_local_managed\\\":false,\\\"_local_managed_run_id\\\":null,\\\"cost_mode\\\":1,\\\"lag_length\\\":0,\\\"metric_operation\\\":\\\"maximize\\\",\\\"preprocess\\\":true}\", \"DataPrepJsonString\": null, \"EnableSubsampling\": null, \"runTemplate\": \"AutoML\", \"azureml.runsource\": \"automl\", \"display_task_type\": \"classification\", \"dependencies_versions\": \"{\\\"azureml-widgets\\\": \\\"1.49.0\\\", \\\"azureml-training-tabular\\\": \\\"1.49.0\\\", \\\"azureml-train\\\": \\\"1.49.0\\\", \\\"azureml-train-restclients-hyperdrive\\\": \\\"1.49.0\\\", \\\"azureml-train-core\\\": \\\"1.49.0\\\", \\\"azureml-train-automl\\\": \\\"1.49.0\\\", \\\"azureml-train-automl-runtime\\\": \\\"1.49.0\\\", \\\"azureml-train-automl-client\\\": \\\"1.49.0\\\", \\\"azureml-tensorboard\\\": \\\"1.49.0\\\", \\\"azureml-telemetry\\\": \\\"1.49.0\\\", \\\"azureml-sdk\\\": \\\"1.49.0\\\", \\\"azureml-responsibleai\\\": \\\"1.49.0\\\", \\\"azureml-pipeline\\\": \\\"1.49.0\\\", \\\"azureml-pipeline-steps\\\": \\\"1.49.0\\\", \\\"azureml-pipeline-core\\\": \\\"1.49.0\\\", \\\"azureml-opendatasets\\\": \\\"1.49.0\\\", \\\"azureml-mlflow\\\": \\\"1.49.0\\\", \\\"azureml-interpret\\\": \\\"1.49.0\\\", \\\"azureml-inference-server-http\\\": \\\"0.8.0\\\", \\\"azureml-explain-model\\\": \\\"1.49.0\\\", \\\"azureml-defaults\\\": \\\"1.49.0\\\", \\\"azureml-dataset-runtime\\\": \\\"1.49.0\\\", \\\"azureml-dataprep\\\": \\\"4.9.1\\\", \\\"azureml-dataprep-rslex\\\": \\\"2.16.1\\\", \\\"azureml-dataprep-native\\\": \\\"38.0.0\\\", \\\"azureml-datadrift\\\": \\\"1.49.0\\\", \\\"azureml-core\\\": \\\"1.49.0\\\", \\\"azureml-contrib-services\\\": \\\"1.49.0\\\", \\\"azureml-contrib-server\\\": \\\"1.49.0\\\", \\\"azureml-contrib-reinforcementlearning\\\": \\\"1.49.0\\\", \\\"azureml-contrib-pipeline-steps\\\": \\\"1.49.0\\\", \\\"azureml-contrib-notebook\\\": \\\"1.49.0\\\", \\\"azureml-contrib-fairness\\\": \\\"1.49.0\\\", \\\"azureml-contrib-dataset\\\": \\\"1.49.0\\\", \\\"azureml-contrib-automl-pipeline-steps\\\": \\\"1.49.0\\\", \\\"azureml-cli-common\\\": \\\"1.49.0\\\", \\\"azureml-automl-runtime\\\": \\\"1.49.0\\\", \\\"azureml-automl-dnn-nlp\\\": \\\"1.49.0\\\", \\\"azureml-automl-core\\\": \\\"1.49.0\\\", \\\"azureml-accel-models\\\": \\\"1.49.0\\\"}\", \"_aml_system_scenario_identification\": \"Local.Parent\", \"ClientSdkVersion\": \"1.49.0\", \"ClientType\": \"SDK\", \"PlatformVersion\": \"DPV1\", \"environment_cpu_name\": \"AzureML-AutoML\", \"environment_cpu_label\": \"prod\", \"environment_gpu_name\": \"AzureML-AutoML-GPU\", \"environment_gpu_label\": \"prod\", \"root_attribution\": \"automl\", \"attribution\": \"AutoML\", \"Orchestrator\": \"AutoML\", \"_azureml.ComputeTargetType\": \"local\", \"ProblemInfoJsonString\": \"{\\\"dataset_num_categorical\\\": 0, \\\"is_sparse\\\": true, \\\"subsampling\\\": false, \\\"has_extra_col\\\": true, \\\"dataset_classes\\\": 287, \\\"dataset_features\\\": 259, \\\"dataset_samples\\\": 339, \\\"single_frequency_class_detected\\\": true}\"}, \"tags\": {\"model_explain_run\": \"best_run\", \"_aml_system_automl_run_workspace_id\": \"4746af88-7b8d-4bb1-9a95-729f608c8d36\", \"dynamic_allowlisting_iterations\": \"<25>;\", \"best_score\": \"0.12686567164179102\", \"best_pipeline\": \"VotingEnsemble\", \"automl_best_child_run_id\": \"AutoML_9ce1be7f-4a78-4c80-88f1-72fafa36b811_27\", \"model_explain_best_run_child_id\": \"AutoML_9ce1be7f-4a78-4c80-88f1-72fafa36b811_27\"}, \"end_time_utc\": \"2023-05-10T14:38:22.489969Z\", \"status\": \"Completed\", \"log_files\": {}, \"log_groups\": [], \"run_duration\": \"0:32:43\", \"run_number\": \"1683727538\", \"run_queued_details\": {\"status\": \"Completed\", \"details\": null}}, \"child_runs\": [{\"run_id\": \"AutoML_9ce1be7f-4a78-4c80-88f1-72fafa36b811_0\", \"run_number\": 1683727622, \"metric\": null, \"status\": \"Completed\", \"run_type\": null, \"training_percent\": \"100\", \"start_time\": \"2023-05-10T14:07:02.998054Z\", \"end_time\": \"2023-05-10T14:08:28.104387Z\", \"created_time\": \"2023-05-10T14:07:02.763113Z\", \"created_time_dt\": \"2023-05-10T14:07:02.763113Z\", \"duration\": \"0:01:25\", \"iteration\": \"0\", \"goal\": \"accuracy_max\", \"run_name\": \"MaxAbsScaler, LightGBM\", \"run_properties\": \"copy=True\", \"primary_metric\": 0.1239245, \"best_metric\": 0.1239245}, {\"run_id\": \"AutoML_9ce1be7f-4a78-4c80-88f1-72fafa36b811_1\", \"run_number\": 1683727708, \"metric\": null, \"status\": \"Completed\", \"run_type\": null, \"training_percent\": \"100\", \"start_time\": \"2023-05-10T14:08:28.646252Z\", \"end_time\": \"2023-05-10T14:09:51.220068Z\", \"created_time\": \"2023-05-10T14:08:28.398833Z\", \"created_time_dt\": \"2023-05-10T14:08:28.398833Z\", \"duration\": \"0:01:22\", \"iteration\": \"1\", \"goal\": \"accuracy_max\", \"run_name\": \"MaxAbsScaler, XGBoostClassifier\", \"run_properties\": \"copy=True\", \"primary_metric\": 0.05605795, \"best_metric\": 0.1239245}, {\"run_id\": \"AutoML_9ce1be7f-4a78-4c80-88f1-72fafa36b811_2\", \"run_number\": 1683727791, \"metric\": null, \"status\": \"Completed\", \"run_type\": null, \"training_percent\": \"100\", \"start_time\": \"2023-05-10T14:09:51.970857Z\", \"end_time\": \"2023-05-10T14:10:40.865562Z\", \"created_time\": \"2023-05-10T14:09:51.7066Z\", \"created_time_dt\": \"2023-05-10T14:09:51.7066Z\", \"duration\": \"0:00:49\", \"iteration\": \"2\", \"goal\": \"accuracy_max\", \"run_name\": \"MaxAbsScaler, ExtremeRandomTrees\", \"run_properties\": \"copy=True\", \"primary_metric\": 0.01176471, \"best_metric\": 0.1239245}, {\"run_id\": \"AutoML_9ce1be7f-4a78-4c80-88f1-72fafa36b811_3\", \"run_number\": 1683727842, \"metric\": null, \"status\": \"Completed\", \"run_type\": null, \"training_percent\": \"100\", \"start_time\": \"2023-05-10T14:10:42.255198Z\", \"end_time\": \"2023-05-10T14:11:35.089816Z\", \"created_time\": \"2023-05-10T14:10:42.02439Z\", \"created_time_dt\": \"2023-05-10T14:10:42.02439Z\", \"duration\": \"0:00:53\", \"iteration\": \"3\", \"goal\": \"accuracy_max\", \"run_name\": \"SparseNormalizer, XGBoostClassifier\", \"run_properties\": \"copy=True, norm='l2'\", \"primary_metric\": 0.00294118, \"best_metric\": 0.1239245}, {\"run_id\": \"AutoML_9ce1be7f-4a78-4c80-88f1-72fafa36b811_4\", \"run_number\": 1683727896, \"metric\": null, \"status\": \"Completed\", \"run_type\": null, \"training_percent\": \"100\", \"start_time\": \"2023-05-10T14:11:36.387382Z\", \"end_time\": \"2023-05-10T14:12:23.883186Z\", \"created_time\": \"2023-05-10T14:11:36.17196Z\", \"created_time_dt\": \"2023-05-10T14:11:36.17196Z\", \"duration\": \"0:00:47\", \"iteration\": \"4\", \"goal\": \"accuracy_max\", \"run_name\": \"MaxAbsScaler, LightGBM\", \"run_properties\": \"copy=True\", \"primary_metric\": 0.00588235, \"best_metric\": 0.1239245}, {\"run_id\": \"AutoML_9ce1be7f-4a78-4c80-88f1-72fafa36b811_5\", \"run_number\": 1683727945, \"metric\": null, \"status\": \"Completed\", \"run_type\": null, \"training_percent\": \"100\", \"start_time\": \"2023-05-10T14:12:25.234095Z\", \"end_time\": \"2023-05-10T14:13:14.309587Z\", \"created_time\": \"2023-05-10T14:12:25.004598Z\", \"created_time_dt\": \"2023-05-10T14:12:25.004598Z\", \"duration\": \"0:00:49\", \"iteration\": \"5\", \"goal\": \"accuracy_max\", \"run_name\": \"MaxAbsScaler, LightGBM\", \"run_properties\": \"copy=True\", \"primary_metric\": 0.0, \"best_metric\": 0.1239245}, {\"run_id\": \"AutoML_9ce1be7f-4a78-4c80-88f1-72fafa36b811_6\", \"run_number\": 1683727995, \"metric\": null, \"status\": \"Completed\", \"run_type\": null, \"training_percent\": \"100\", \"start_time\": \"2023-05-10T14:13:15.961477Z\", \"end_time\": \"2023-05-10T14:14:07.168721Z\", \"created_time\": \"2023-05-10T14:13:15.718597Z\", \"created_time_dt\": \"2023-05-10T14:13:15.718597Z\", \"duration\": \"0:00:51\", \"iteration\": \"6\", \"goal\": \"accuracy_max\", \"run_name\": \"StandardScalerWrapper, XGBoostClassifier\", \"run_properties\": \"copy=True, with_mean=False, with_std=False\", \"primary_metric\": 0.00588235, \"best_metric\": 0.1239245}, {\"run_id\": \"AutoML_9ce1be7f-4a78-4c80-88f1-72fafa36b811_7\", \"run_number\": 1683728048, \"metric\": null, \"status\": \"Completed\", \"run_type\": null, \"training_percent\": \"100\", \"start_time\": \"2023-05-10T14:14:09.002073Z\", \"end_time\": \"2023-05-10T14:14:59.490321Z\", \"created_time\": \"2023-05-10T14:14:08.393071Z\", \"created_time_dt\": \"2023-05-10T14:14:08.393071Z\", \"duration\": \"0:00:51\", \"iteration\": \"7\", \"goal\": \"accuracy_max\", \"run_name\": \"MaxAbsScaler, LogisticRegression\", \"run_properties\": \"copy=True\", \"primary_metric\": 0.04429324, \"best_metric\": 0.1239245}, {\"run_id\": \"AutoML_9ce1be7f-4a78-4c80-88f1-72fafa36b811_8\", \"run_number\": 1683728100, \"metric\": null, \"status\": \"Completed\", \"run_type\": null, \"training_percent\": \"100\", \"start_time\": \"2023-05-10T14:15:01.240111Z\", \"end_time\": \"2023-05-10T14:15:50.583049Z\", \"created_time\": \"2023-05-10T14:15:00.676253Z\", \"created_time_dt\": \"2023-05-10T14:15:00.676253Z\", \"duration\": \"0:00:49\", \"iteration\": \"8\", \"goal\": \"accuracy_max\", \"run_name\": \"StandardScalerWrapper, ExtremeRandomTrees\", \"run_properties\": \"copy=True, with_mean=False, with_std=False\", \"primary_metric\": 0.02954346, \"best_metric\": 0.1239245}, {\"run_id\": \"AutoML_9ce1be7f-4a78-4c80-88f1-72fafa36b811_9\", \"run_number\": 1683728151, \"metric\": null, \"status\": \"Completed\", \"run_type\": null, \"training_percent\": \"100\", \"start_time\": \"2023-05-10T14:15:52.356154Z\", \"end_time\": \"2023-05-10T14:16:43.625585Z\", \"created_time\": \"2023-05-10T14:15:51.83939Z\", \"created_time_dt\": \"2023-05-10T14:15:51.83939Z\", \"duration\": \"0:00:51\", \"iteration\": \"9\", \"goal\": \"accuracy_max\", \"run_name\": \"StandardScalerWrapper, XGBoostClassifier\", \"run_properties\": \"copy=True, with_mean=False, with_std=False\", \"primary_metric\": 0.00294118, \"best_metric\": 0.1239245}, {\"run_id\": \"AutoML_9ce1be7f-4a78-4c80-88f1-72fafa36b811_10\", \"run_number\": 1683728204, \"metric\": null, \"status\": \"Completed\", \"run_type\": null, \"training_percent\": \"100\", \"start_time\": \"2023-05-10T14:16:45.463233Z\", \"end_time\": \"2023-05-10T14:17:33.860508Z\", \"created_time\": \"2023-05-10T14:16:44.865346Z\", \"created_time_dt\": \"2023-05-10T14:16:44.865346Z\", \"duration\": \"0:00:48\", \"iteration\": \"10\", \"goal\": \"accuracy_max\", \"run_name\": \"SparseNormalizer, LightGBM\", \"run_properties\": \"copy=True, norm='l1'\", \"primary_metric\": 0.00588235, \"best_metric\": 0.1239245}, {\"run_id\": \"AutoML_9ce1be7f-4a78-4c80-88f1-72fafa36b811_11\", \"run_number\": 1683728255, \"metric\": null, \"status\": \"Completed\", \"run_type\": null, \"training_percent\": \"100\", \"start_time\": \"2023-05-10T14:17:35.97404Z\", \"end_time\": \"2023-05-10T14:18:26.842053Z\", \"created_time\": \"2023-05-10T14:17:35.36982Z\", \"created_time_dt\": \"2023-05-10T14:17:35.36982Z\", \"duration\": \"0:00:51\", \"iteration\": \"11\", \"goal\": \"accuracy_max\", \"run_name\": \"StandardScalerWrapper, XGBoostClassifier\", \"run_properties\": \"copy=True, with_mean=False, with_std=False\", \"primary_metric\": 0.02067603, \"best_metric\": 0.1239245}, {\"run_id\": \"AutoML_9ce1be7f-4a78-4c80-88f1-72fafa36b811_12\", \"run_number\": 1683728308, \"metric\": null, \"status\": \"Completed\", \"run_type\": null, \"training_percent\": \"100\", \"start_time\": \"2023-05-10T14:18:28.698365Z\", \"end_time\": \"2023-05-10T14:19:26.195547Z\", \"created_time\": \"2023-05-10T14:18:28.089697Z\", \"created_time_dt\": \"2023-05-10T14:18:28.089697Z\", \"duration\": \"0:00:58\", \"iteration\": \"12\", \"goal\": \"accuracy_max\", \"run_name\": \"MaxAbsScaler, LogisticRegression\", \"run_properties\": \"copy=True\", \"primary_metric\": 0.05605795, \"best_metric\": 0.1239245}, {\"run_id\": \"AutoML_9ce1be7f-4a78-4c80-88f1-72fafa36b811_13\", \"run_number\": 1683728367, \"metric\": null, \"status\": \"Completed\", \"run_type\": null, \"training_percent\": \"100\", \"start_time\": \"2023-05-10T14:19:27.541883Z\", \"end_time\": \"2023-05-10T14:20:17.024373Z\", \"created_time\": \"2023-05-10T14:19:27.288366Z\", \"created_time_dt\": \"2023-05-10T14:19:27.288366Z\", \"duration\": \"0:00:49\", \"iteration\": \"13\", \"goal\": \"accuracy_max\", \"run_name\": \"StandardScalerWrapper, XGBoostClassifier\", \"run_properties\": \"copy=True, with_mean=False, with_std=False\", \"primary_metric\": 0.0, \"best_metric\": 0.1239245}, {\"run_id\": \"AutoML_9ce1be7f-4a78-4c80-88f1-72fafa36b811_14\", \"run_number\": 1683728418, \"metric\": null, \"status\": \"Completed\", \"run_type\": null, \"training_percent\": \"100\", \"start_time\": \"2023-05-10T14:20:18.382937Z\", \"end_time\": \"2023-05-10T14:21:07.253599Z\", \"created_time\": \"2023-05-10T14:20:18.097395Z\", \"created_time_dt\": \"2023-05-10T14:20:18.097395Z\", \"duration\": \"0:00:49\", \"iteration\": \"14\", \"goal\": \"accuracy_max\", \"run_name\": \"SparseNormalizer, RandomForest\", \"run_properties\": \"copy=True, norm='l2'\", \"primary_metric\": 0.05311677, \"best_metric\": 0.1239245}, {\"run_id\": \"AutoML_9ce1be7f-4a78-4c80-88f1-72fafa36b811_15\", \"run_number\": 1683728468, \"metric\": null, \"status\": \"Completed\", \"run_type\": null, \"training_percent\": \"100\", \"start_time\": \"2023-05-10T14:21:08.708905Z\", \"end_time\": \"2023-05-10T14:22:59.285356Z\", \"created_time\": \"2023-05-10T14:21:08.465427Z\", \"created_time_dt\": \"2023-05-10T14:21:08.465427Z\", \"duration\": \"0:01:50\", \"iteration\": \"15\", \"goal\": \"accuracy_max\", \"run_name\": \"StandardScalerWrapper, LogisticRegression\", \"run_properties\": \"copy=True, with_mean=False, with_std=False\", \"primary_metric\": 0.0619403, \"best_metric\": 0.1239245}, {\"run_id\": \"AutoML_9ce1be7f-4a78-4c80-88f1-72fafa36b811_16\", \"run_number\": 1683728580, \"metric\": null, \"status\": \"Completed\", \"run_type\": null, \"training_percent\": \"100\", \"start_time\": \"2023-05-10T14:23:00.691172Z\", \"end_time\": \"2023-05-10T14:23:46.944801Z\", \"created_time\": \"2023-05-10T14:23:00.437692Z\", \"created_time_dt\": \"2023-05-10T14:23:00.437692Z\", \"duration\": \"0:00:46\", \"iteration\": \"16\", \"goal\": \"accuracy_max\", \"run_name\": \"StandardScalerWrapper, RandomForest\", \"run_properties\": \"copy=True, with_mean=False, with_std=False\", \"primary_metric\": 0.06786655, \"best_metric\": 0.1239245}, {\"run_id\": \"AutoML_9ce1be7f-4a78-4c80-88f1-72fafa36b811_17\", \"run_number\": 1683728628, \"metric\": null, \"status\": \"Completed\", \"run_type\": null, \"training_percent\": \"100\", \"start_time\": \"2023-05-10T14:23:48.330787Z\", \"end_time\": \"2023-05-10T14:24:44.281632Z\", \"created_time\": \"2023-05-10T14:23:48.084779Z\", \"created_time_dt\": \"2023-05-10T14:23:48.084779Z\", \"duration\": \"0:00:56\", \"iteration\": \"17\", \"goal\": \"accuracy_max\", \"run_name\": \"StandardScalerWrapper, XGBoostClassifier\", \"run_properties\": \"copy=True, with_mean=False, with_std=False\", \"primary_metric\": 0.01769096, \"best_metric\": 0.1239245}, {\"run_id\": \"AutoML_9ce1be7f-4a78-4c80-88f1-72fafa36b811_18\", \"run_number\": 1683728685, \"metric\": null, \"status\": \"Completed\", \"run_type\": null, \"training_percent\": \"100\", \"start_time\": \"2023-05-10T14:24:45.63344Z\", \"end_time\": \"2023-05-10T14:25:45.306377Z\", \"created_time\": \"2023-05-10T14:24:45.406275Z\", \"created_time_dt\": \"2023-05-10T14:24:45.406275Z\", \"duration\": \"0:00:59\", \"iteration\": \"18\", \"goal\": \"accuracy_max\", \"run_name\": \"TruncatedSVDWrapper, RandomForest\", \"run_properties\": \"n_components=0.8015789473684211, random_state=None\", \"primary_metric\": 0.05899912, \"best_metric\": 0.1239245}, {\"run_id\": \"AutoML_9ce1be7f-4a78-4c80-88f1-72fafa36b811_19\", \"run_number\": 1683728746, \"metric\": null, \"status\": \"Completed\", \"run_type\": null, \"training_percent\": \"100\", \"start_time\": \"2023-05-10T14:25:46.861491Z\", \"end_time\": \"2023-05-10T14:27:19.018713Z\", \"created_time\": \"2023-05-10T14:25:46.626652Z\", \"created_time_dt\": \"2023-05-10T14:25:46.626652Z\", \"duration\": \"0:01:32\", \"iteration\": \"19\", \"goal\": \"accuracy_max\", \"run_name\": \"TruncatedSVDWrapper, RandomForest\", \"run_properties\": \"n_components=0.7026315789473684, random_state=None\", \"primary_metric\": 0.05605795, \"best_metric\": 0.1239245}, {\"run_id\": \"AutoML_9ce1be7f-4a78-4c80-88f1-72fafa36b811_20\", \"run_number\": 1683728840, \"metric\": null, \"status\": \"Completed\", \"run_type\": null, \"training_percent\": \"100\", \"start_time\": \"2023-05-10T14:27:20.454598Z\", \"end_time\": \"2023-05-10T14:28:15.722275Z\", \"created_time\": \"2023-05-10T14:27:20.199528Z\", \"created_time_dt\": \"2023-05-10T14:27:20.199528Z\", \"duration\": \"0:00:55\", \"iteration\": \"20\", \"goal\": \"accuracy_max\", \"run_name\": \"StandardScalerWrapper, XGBoostClassifier\", \"run_properties\": \"copy=True, with_mean=False, with_std=False\", \"primary_metric\": 0.05605795, \"best_metric\": 0.1239245}, {\"run_id\": \"AutoML_9ce1be7f-4a78-4c80-88f1-72fafa36b811_21\", \"run_number\": 1683728896, \"metric\": null, \"status\": \"Completed\", \"run_type\": null, \"training_percent\": \"100\", \"start_time\": \"2023-05-10T14:28:17.145363Z\", \"end_time\": \"2023-05-10T14:29:07.173451Z\", \"created_time\": \"2023-05-10T14:28:16.869653Z\", \"created_time_dt\": \"2023-05-10T14:28:16.869653Z\", \"duration\": \"0:00:50\", \"iteration\": \"21\", \"goal\": \"accuracy_max\", \"run_name\": \"SparseNormalizer, XGBoostClassifier\", \"run_properties\": \"copy=True, norm='l1'\", \"primary_metric\": 0.00592625, \"best_metric\": 0.1239245}, {\"run_id\": \"AutoML_9ce1be7f-4a78-4c80-88f1-72fafa36b811_22\", \"run_number\": 1683728948, \"metric\": null, \"status\": \"Completed\", \"run_type\": null, \"training_percent\": \"100\", \"start_time\": \"2023-05-10T14:29:08.503448Z\", \"end_time\": \"2023-05-10T14:29:59.684668Z\", \"created_time\": \"2023-05-10T14:29:08.249086Z\", \"created_time_dt\": \"2023-05-10T14:29:08.249086Z\", \"duration\": \"0:00:51\", \"iteration\": \"22\", \"goal\": \"accuracy_max\", \"run_name\": \"StandardScalerWrapper, LogisticRegression\", \"run_properties\": \"copy=True, with_mean=False, with_std=True\", \"primary_metric\": 0.05013169, \"best_metric\": 0.1239245}, {\"run_id\": \"AutoML_9ce1be7f-4a78-4c80-88f1-72fafa36b811_23\", \"run_number\": 1683729000, \"metric\": null, \"status\": \"Completed\", \"run_type\": null, \"training_percent\": \"100\", \"start_time\": \"2023-05-10T14:30:00.981227Z\", \"end_time\": \"2023-05-10T14:30:49.85519Z\", \"created_time\": \"2023-05-10T14:30:00.757757Z\", \"created_time_dt\": \"2023-05-10T14:30:00.757757Z\", \"duration\": \"0:00:49\", \"iteration\": \"23\", \"goal\": \"accuracy_max\", \"run_name\": \"MaxAbsScaler, ExtremeRandomTrees\", \"run_properties\": \"copy=True\", \"primary_metric\": 0.03239684, \"best_metric\": 0.1239245}, {\"run_id\": \"AutoML_9ce1be7f-4a78-4c80-88f1-72fafa36b811_24\", \"run_number\": 1683729050, \"metric\": null, \"status\": \"Completed\", \"run_type\": null, \"training_percent\": \"100\", \"start_time\": \"2023-05-10T14:30:51.216218Z\", \"end_time\": \"2023-05-10T14:31:58.327882Z\", \"created_time\": \"2023-05-10T14:30:50.981034Z\", \"created_time_dt\": \"2023-05-10T14:30:50.981034Z\", \"duration\": \"0:01:07\", \"iteration\": \"24\", \"goal\": \"accuracy_max\", \"run_name\": \"MaxAbsScaler, LogisticRegression\", \"run_properties\": \"copy=True\", \"primary_metric\": 0.03832309, \"best_metric\": 0.1239245}, {\"run_id\": \"AutoML_9ce1be7f-4a78-4c80-88f1-72fafa36b811_25\", \"run_number\": 1683729120, \"metric\": null, \"status\": \"Completed\", \"run_type\": null, \"training_percent\": \"100\", \"start_time\": \"2023-05-10T14:32:00.410318Z\", \"end_time\": \"2023-05-10T14:33:02.62135Z\", \"created_time\": \"2023-05-10T14:32:00.163386Z\", \"created_time_dt\": \"2023-05-10T14:32:00.163386Z\", \"duration\": \"0:01:02\", \"iteration\": \"25\", \"goal\": \"accuracy_max\", \"run_name\": \"SparseNormalizer, LightGBM\", \"run_properties\": \"copy=True, norm='l1'\", \"primary_metric\": 0.00882353, \"best_metric\": 0.1239245}, {\"run_id\": \"AutoML_9ce1be7f-4a78-4c80-88f1-72fafa36b811_26\", \"run_number\": 1683729183, \"metric\": null, \"status\": \"Completed\", \"run_type\": null, \"training_percent\": \"100\", \"start_time\": \"2023-05-10T14:33:03.928639Z\", \"end_time\": \"2023-05-10T14:35:46.823365Z\", \"created_time\": \"2023-05-10T14:33:03.702428Z\", \"created_time_dt\": \"2023-05-10T14:33:03.702428Z\", \"duration\": \"0:02:43\", \"iteration\": \"26\", \"goal\": \"accuracy_max\", \"run_name\": \"TruncatedSVDWrapper, LogisticRegression\", \"run_properties\": \"n_components=0.95, random_state=None\", \"primary_metric\": 0.02067603, \"best_metric\": 0.1239245}, {\"run_id\": \"AutoML_9ce1be7f-4a78-4c80-88f1-72fafa36b811_27\", \"run_number\": 1683729347, \"metric\": null, \"status\": \"Completed\", \"run_type\": null, \"training_percent\": \"100\", \"start_time\": \"2023-05-10T14:35:47.392437Z\", \"end_time\": \"2023-05-10T14:36:42.574219Z\", \"created_time\": \"2023-05-10T14:35:47.138668Z\", \"created_time_dt\": \"2023-05-10T14:35:47.138668Z\", \"duration\": \"0:00:55\", \"iteration\": \"27\", \"goal\": \"accuracy_max\", \"run_name\": \"VotingEnsemble\", \"run_properties\": \"classification_labels=numpy.array([  0,   1,   2,   3,   4,   5,   6,   7,   8,   9,  10,  11,  12,\\n                              13,  14,  15,  16,  17,  18,  19,  20,  21,  22,  23,  24,  25,\\n                              26,  27,  28,  29,  30,  31,  32,  33,  34,  35,  36,  37,  38,\\n                              39,  40,  41,  42,  43,  44,  45,  46,  47,  48,  49,  50,  51,\\n                              52,  53,  54,  55,  56,  57,  58,  59,  60,  61,  62,  63,  64,\\n                              65,  66,  67,  68,  69,  70,  71,  72,  73,  74,  75,  76,  77,\\n                              78,  79,  80,  81,  82,  83,  84,  85,  86,  87,  88,  89,  90,\\n                              91,  92,  93,  94,  95,  96,  97,  98,  99, 100, 101, 102, 103,\\n                             104, 105, 106, 107, 108, 109, 110, 111, 112, 113, 114, 115, 116,\\n                             117, 118, 119, 120, 121, 122, 123, 124, 125, 126, 127, 128, 129,\\n                             130, 131, 132, 133, 134, 135, 136, 137, 138, 139, 140, 141, 142,\\n                             143, 144, 145, 146, 147, 148, 149, 150, 151, 152, 153, 154, 155,\\n                             156, 157, 158, 159, 160, 161, 162, 163, 164, 165, 166, 167, 168,\\n                             169, 170, 171, 172, 173, 174, 175, 176, 177, 178, 179, 180, 181,\\n                             182, 183, 184, 185, 186, 187, 188, 189, 190, 191, 192, 193, 194,\\n                             195, 196, 197, 198, 199, 200, 201, 202, 203, 204, 205, 206, 207,\\n                             208, 209, 210, 211, 212, 213, 214, 215, 216, 217, 218, 219, 220,\\n                             221, 222, 223, 224, 225, 226, 227, 228, 229, 230, 231, 232, 233,\\n                             234, 235, 236, 237, 238, 239, 240, 241, 242, 243, 244, 245, 246,\\n                             247, 248, 249, 250, 251, 252, 253, 254, 255, 256, 257, 258, 259,\\n                             260, 261, 262, 263, 264, 265, 266, 267, 268, 269, 270, 271, 272,\\n                             273, 274, 275, 276, 277, 278, 279, 280, 281, 282, 283, 284, 285,\\n                             286]\", \"primary_metric\": 0.12686567, \"best_metric\": 0.12686567}, {\"run_id\": \"AutoML_9ce1be7f-4a78-4c80-88f1-72fafa36b811_28\", \"run_number\": 1683729402, \"metric\": null, \"status\": \"Completed\", \"run_type\": null, \"training_percent\": \"100\", \"start_time\": \"2023-05-10T14:36:43.097801Z\", \"end_time\": \"2023-05-10T14:38:21.947675Z\", \"created_time\": \"2023-05-10T14:36:42.844779Z\", \"created_time_dt\": \"2023-05-10T14:36:42.844779Z\", \"duration\": \"0:01:39\", \"iteration\": \"28\", \"goal\": \"accuracy_max\", \"run_name\": \"StackEnsemble\", \"run_properties\": \"base_learners=[('0', Pipeline(memory=None, steps=[('maxabsscaler', MaxAbsScaler(copy=True\", \"primary_metric\": 0.05307287, \"best_metric\": 0.12686567}], \"children_metrics\": {\"categories\": [0], \"series\": {\"recall_score_weighted\": [{\"categories\": [\"0\", \"1\", \"2\", \"3\", \"4\", \"5\", \"6\", \"7\", \"8\", \"9\", \"10\", \"11\", \"12\", \"13\", \"14\", \"15\", \"16\", \"17\", \"18\", \"19\", \"20\", \"21\", \"22\", \"23\", \"24\", \"25\", \"26\", \"27\", \"28\"], \"mode\": \"markers\", \"name\": \"recall_score_weighted\", \"stepped\": false, \"type\": \"scatter\", \"data\": [0.12392449517120281, 0.05605794556628622, 0.011764705882352941, 0.0029411764705882353, 0.0058823529411764705, 0.0, 0.0058823529411764705, 0.044293239683933276, 0.02954345917471466, 0.0029411764705882353, 0.0058823529411764705, 0.020676031606672522, 0.05605794556628622, 0.0, 0.05311676909569798, 0.06194029850746269, 0.06786654960491659, 0.017690956979806848, 0.05899912203687445, 0.05605794556628622, 0.05605794556628622, 0.0059262510974539065, 0.05013169446883231, 0.03239683933274802, 0.038323090430201934, 0.008823529411764706, 0.020676031606672522, 0.12686567164179102, 0.05307287093942055]}, {\"categories\": [\"0\", \"1\", \"2\", \"3\", \"4\", \"5\", \"6\", \"7\", \"8\", \"9\", \"10\", \"11\", \"12\", \"13\", \"14\", \"15\", \"16\", \"17\", \"18\", \"19\", \"20\", \"21\", \"22\", \"23\", \"24\", \"25\", \"26\", \"27\", \"28\"], \"mode\": \"lines\", \"name\": \"recall_score_weighted_max\", \"stepped\": true, \"type\": \"scatter\", \"data\": [0.12392449517120281, 0.12392449517120281, 0.12392449517120281, 0.12392449517120281, 0.12392449517120281, 0.12392449517120281, 0.12392449517120281, 0.12392449517120281, 0.12392449517120281, 0.12392449517120281, 0.12392449517120281, 0.12392449517120281, 0.12392449517120281, 0.12392449517120281, 0.12392449517120281, 0.12392449517120281, 0.12392449517120281, 0.12392449517120281, 0.12392449517120281, 0.12392449517120281, 0.12392449517120281, 0.12392449517120281, 0.12392449517120281, 0.12392449517120281, 0.12392449517120281, 0.12392449517120281, 0.12392449517120281, 0.12686567164179102, 0.12686567164179102]}], \"f1_score_micro\": [{\"categories\": [\"0\", \"1\", \"2\", \"3\", \"4\", \"5\", \"6\", \"7\", \"8\", \"9\", \"10\", \"11\", \"12\", \"13\", \"14\", \"15\", \"16\", \"17\", \"18\", \"19\", \"20\", \"21\", \"22\", \"23\", \"24\", \"25\", \"26\", \"27\", \"28\"], \"mode\": \"markers\", \"name\": \"f1_score_micro\", \"stepped\": false, \"type\": \"scatter\", \"data\": [0.12392449517120281, 0.05605794556628622, 0.011764705882352941, 0.0029411764705882353, 0.0058823529411764705, 0.0, 0.0058823529411764705, 0.044293239683933276, 0.02954345917471466, 0.0029411764705882353, 0.0058823529411764705, 0.020676031606672522, 0.05605794556628622, 0.0, 0.05311676909569798, 0.06194029850746269, 0.06786654960491659, 0.017690956979806848, 0.05899912203687445, 0.05605794556628622, 0.05605794556628622, 0.0059262510974539065, 0.05013169446883231, 0.03239683933274802, 0.038323090430201934, 0.008823529411764706, 0.020676031606672522, 0.12686567164179102, 0.05307287093942055]}, {\"categories\": [\"0\", \"1\", \"2\", \"3\", \"4\", \"5\", \"6\", \"7\", \"8\", \"9\", \"10\", \"11\", \"12\", \"13\", \"14\", \"15\", \"16\", \"17\", \"18\", \"19\", \"20\", \"21\", \"22\", \"23\", \"24\", \"25\", \"26\", \"27\", \"28\"], \"mode\": \"lines\", \"name\": \"f1_score_micro_max\", \"stepped\": true, \"type\": \"scatter\", \"data\": [0.12392449517120281, 0.12392449517120281, 0.12392449517120281, 0.12392449517120281, 0.12392449517120281, 0.12392449517120281, 0.12392449517120281, 0.12392449517120281, 0.12392449517120281, 0.12392449517120281, 0.12392449517120281, 0.12392449517120281, 0.12392449517120281, 0.12392449517120281, 0.12392449517120281, 0.12392449517120281, 0.12392449517120281, 0.12392449517120281, 0.12392449517120281, 0.12392449517120281, 0.12392449517120281, 0.12392449517120281, 0.12392449517120281, 0.12392449517120281, 0.12392449517120281, 0.12392449517120281, 0.12392449517120281, 0.12686567164179102, 0.12686567164179102]}], \"norm_macro_recall\": [{\"categories\": [\"0\", \"1\", \"2\", \"3\", \"4\", \"5\", \"6\", \"7\", \"8\", \"9\", \"10\", \"11\", \"12\", \"13\", \"14\", \"15\", \"16\", \"17\", \"18\", \"19\", \"20\", \"21\", \"22\", \"23\", \"24\", \"25\", \"26\", \"27\", \"28\"], \"mode\": \"markers\", \"name\": \"norm_macro_recall\", \"stepped\": false, \"type\": \"scatter\", \"data\": [0.1231990231990232, 0.08295482295482295, 0.0577045177045177, 0.0, 0.0, 0.003076923076923077, 0.006153846153846154, 0.05943833943833944, 0.04981684981684982, 0.00932844932844933, 0.0, 0.026446886446886447, 0.06251526251526252, 0.0, 0.08395604395604395, 0.07789987789987789, 0.06876678876678877, 0.02634920634920635, 0.06857142857142857, 0.07184371184371184, 0.06881562881562882, 0.02192918192918193, 0.06866910866910866, 0.07843711843711842, 0.06251526251526252, 0.0062515262515262515, 0.048473748473748475, 0.12627594627594627, 0.05804639804639804]}, {\"categories\": [\"0\", \"1\", \"2\", \"3\", \"4\", \"5\", \"6\", \"7\", \"8\", \"9\", \"10\", \"11\", \"12\", \"13\", \"14\", \"15\", \"16\", \"17\", \"18\", \"19\", \"20\", \"21\", \"22\", \"23\", \"24\", \"25\", \"26\", \"27\", \"28\"], \"mode\": \"lines\", \"name\": \"norm_macro_recall_max\", \"stepped\": true, \"type\": \"scatter\", \"data\": [0.1231990231990232, 0.1231990231990232, 0.1231990231990232, 0.1231990231990232, 0.1231990231990232, 0.1231990231990232, 0.1231990231990232, 0.1231990231990232, 0.1231990231990232, 0.1231990231990232, 0.1231990231990232, 0.1231990231990232, 0.1231990231990232, 0.1231990231990232, 0.1231990231990232, 0.1231990231990232, 0.1231990231990232, 0.1231990231990232, 0.1231990231990232, 0.1231990231990232, 0.1231990231990232, 0.1231990231990232, 0.1231990231990232, 0.1231990231990232, 0.1231990231990232, 0.1231990231990232, 0.1231990231990232, 0.12627594627594627, 0.12627594627594627]}], \"log_loss\": [{\"categories\": [\"0\", \"1\", \"2\", \"3\", \"4\", \"5\", \"6\", \"7\", \"8\", \"9\", \"10\", \"11\", \"12\", \"13\", \"14\", \"15\", \"16\", \"17\", \"18\", \"19\", \"20\", \"21\", \"22\", \"23\", \"24\", \"25\", \"26\", \"27\", \"28\"], \"mode\": \"markers\", \"name\": \"log_loss\", \"stepped\": false, \"type\": \"scatter\", \"data\": [27.29452525141449, 27.414771918399218, 27.557682439936066, 27.676832539096033, 27.660601848399004, 27.659201641358685, 27.644554117784168, 27.467469629435094, 27.522283332129717, 27.66271525623271, 27.660601848399004, 27.619896582541692, 28.03673174115388, 27.67666575723847, 27.502943817410276, 27.59990454037104, 27.508884682415932, 27.616407598698345, 27.491127898784505, 28.970243750206738, 27.45690615055621, 27.66393201874458, 27.615744426661404, 27.621615318131823, 30.360672114819454, 27.65508166380338, 27.556332436194815, 27.315216135634834, 27.51393951396368]}, {\"categories\": [\"0\", \"1\", \"2\", \"3\", \"4\", \"5\", \"6\", \"7\", \"8\", \"9\", \"10\", \"11\", \"12\", \"13\", \"14\", \"15\", \"16\", \"17\", \"18\", \"19\", \"20\", \"21\", \"22\", \"23\", \"24\", \"25\", \"26\", \"27\", \"28\"], \"mode\": \"lines\", \"name\": \"log_loss_min\", \"stepped\": true, \"type\": \"scatter\", \"data\": [27.29452525141449, 27.29452525141449, 27.29452525141449, 27.29452525141449, 27.29452525141449, 27.29452525141449, 27.29452525141449, 27.29452525141449, 27.29452525141449, 27.29452525141449, 27.29452525141449, 27.29452525141449, 27.29452525141449, 27.29452525141449, 27.29452525141449, 27.29452525141449, 27.29452525141449, 27.29452525141449, 27.29452525141449, 27.29452525141449, 27.29452525141449, 27.29452525141449, 27.29452525141449, 27.29452525141449, 27.29452525141449, 27.29452525141449, 27.29452525141449, 27.29452525141449, 27.29452525141449]}], \"average_precision_score_weighted\": [{\"categories\": [\"0\", \"1\", \"2\", \"3\", \"4\", \"5\", \"6\", \"7\", \"8\", \"9\", \"10\", \"11\", \"12\", \"13\", \"14\", \"15\", \"16\", \"17\", \"18\", \"19\", \"20\", \"21\", \"22\", \"23\", \"24\", \"25\", \"26\", \"27\", \"28\"], \"mode\": \"markers\", \"name\": \"average_precision_score_weighted\", \"stepped\": false, \"type\": \"scatter\", \"data\": [0.15566929325937706, 0.10866919905235113, 0.08635128709443932, 0.021670791326394732, 0.015882152528171517, 0.026794945151471926, 0.031069447055266486, 0.09475589487213534, 0.09268544650676871, 0.030182128052891756, 0.015882152528171517, 0.06547547976249872, 0.09232200688565473, 0.015882152528171517, 0.11818267569727033, 0.10479128777242841, 0.11520921144774458, 0.061410749936655365, 0.1040545954530667, 0.10236222260908863, 0.10140581544626966, 0.0398591778785697, 0.09509450158588359, 0.08588519926882601, 0.08687995889468234, 0.031623132957397306, 0.0897697360359374, 0.15138944214580163, 0.13991911701394588]}, {\"categories\": [\"0\", \"1\", \"2\", \"3\", \"4\", \"5\", \"6\", \"7\", \"8\", \"9\", \"10\", \"11\", \"12\", \"13\", \"14\", \"15\", \"16\", \"17\", \"18\", \"19\", \"20\", \"21\", \"22\", \"23\", \"24\", \"25\", \"26\", \"27\", \"28\"], \"mode\": \"lines\", \"name\": \"average_precision_score_weighted_max\", \"stepped\": true, \"type\": \"scatter\", \"data\": [0.15566929325937706, 0.15566929325937706, 0.15566929325937706, 0.15566929325937706, 0.15566929325937706, 0.15566929325937706, 0.15566929325937706, 0.15566929325937706, 0.15566929325937706, 0.15566929325937706, 0.15566929325937706, 0.15566929325937706, 0.15566929325937706, 0.15566929325937706, 0.15566929325937706, 0.15566929325937706, 0.15566929325937706, 0.15566929325937706, 0.15566929325937706, 0.15566929325937706, 0.15566929325937706, 0.15566929325937706, 0.15566929325937706, 0.15566929325937706, 0.15566929325937706, 0.15566929325937706, 0.15566929325937706, 0.15566929325937706, 0.15566929325937706]}], \"AUC_macro\": [{\"categories\": [\"0\", \"1\", \"2\", \"3\", \"4\", \"5\", \"6\", \"7\", \"8\", \"9\", \"10\", \"11\", \"12\", \"13\", \"14\", \"15\", \"16\", \"17\", \"18\", \"19\", \"20\", \"21\", \"22\", \"23\", \"24\", \"25\", \"26\", \"27\", \"28\"], \"mode\": \"markers\", \"name\": \"AUC_macro\", \"stepped\": false, \"type\": \"scatter\", \"data\": [0.5780486635612992, 0.5626982365073868, 0.5514977391728578, 0.4812590432097301, 0.5, 0.4901433321644058, 0.5005650847202323, 0.5381611191367807, 0.5511761226580596, 0.4897054228420833, 0.5, 0.5508691890660599, 0.5392870533563376, 0.5, 0.5668706435374515, 0.5791527093816782, 0.5691799969874088, 0.546361821198363, 0.5647863636627205, 0.5590178493063924, 0.5643233011476312, 0.5065420032440046, 0.5496672338666911, 0.5576013150171478, 0.5399912623653295, 0.49045948423937735, 0.5829065307995938, 0.5725069503088499, 0.5680006419876671]}, {\"categories\": [\"0\", \"1\", \"2\", \"3\", \"4\", \"5\", \"6\", \"7\", \"8\", \"9\", \"10\", \"11\", \"12\", \"13\", \"14\", \"15\", \"16\", \"17\", \"18\", \"19\", \"20\", \"21\", \"22\", \"23\", \"24\", \"25\", \"26\", \"27\", \"28\"], \"mode\": \"lines\", \"name\": \"AUC_macro_max\", \"stepped\": true, \"type\": \"scatter\", \"data\": [0.5780486635612992, 0.5780486635612992, 0.5780486635612992, 0.5780486635612992, 0.5780486635612992, 0.5780486635612992, 0.5780486635612992, 0.5780486635612992, 0.5780486635612992, 0.5780486635612992, 0.5780486635612992, 0.5780486635612992, 0.5780486635612992, 0.5780486635612992, 0.5780486635612992, 0.5791527093816782, 0.5791527093816782, 0.5791527093816782, 0.5791527093816782, 0.5791527093816782, 0.5791527093816782, 0.5791527093816782, 0.5791527093816782, 0.5791527093816782, 0.5791527093816782, 0.5791527093816782, 0.5829065307995938, 0.5829065307995938, 0.5829065307995938]}], \"balanced_accuracy\": [{\"categories\": [\"0\", \"1\", \"2\", \"3\", \"4\", \"5\", \"6\", \"7\", \"8\", \"9\", \"10\", \"11\", \"12\", \"13\", \"14\", \"15\", \"16\", \"17\", \"18\", \"19\", \"20\", \"21\", \"22\", \"23\", \"24\", \"25\", \"26\", \"27\", \"28\"], \"mode\": \"markers\", \"name\": \"balanced_accuracy\", \"stepped\": false, \"type\": \"scatter\", \"data\": [0.07293819555696593, 0.032501628607746705, 0.006923190328763084, 0.0029850746268656717, 0.00615530303030303, 0.0, 0.005228981544771019, 0.02858566816834903, 0.020271867612293142, 0.002857142857142857, 0.00615530303030303, 0.018545079085333833, 0.031141757632361777, 0.0, 0.03166890773381385, 0.0344540577021253, 0.04076001378564511, 0.015495951647850384, 0.03191493242457056, 0.03084829695282192, 0.03700043742806901, 0.005755693581780538, 0.028906072517300884, 0.016425934751622823, 0.02370077728739872, 0.008373528844298669, 0.01654163100908873, 0.07484832135112236, 0.04541110627730346]}, {\"categories\": [\"0\", \"1\", \"2\", \"3\", \"4\", \"5\", \"6\", \"7\", \"8\", \"9\", \"10\", \"11\", \"12\", \"13\", \"14\", \"15\", \"16\", \"17\", \"18\", \"19\", \"20\", \"21\", \"22\", \"23\", \"24\", \"25\", \"26\", \"27\", \"28\"], \"mode\": \"lines\", \"name\": \"balanced_accuracy_max\", \"stepped\": true, \"type\": \"scatter\", \"data\": [0.07293819555696593, 0.07293819555696593, 0.07293819555696593, 0.07293819555696593, 0.07293819555696593, 0.07293819555696593, 0.07293819555696593, 0.07293819555696593, 0.07293819555696593, 0.07293819555696593, 0.07293819555696593, 0.07293819555696593, 0.07293819555696593, 0.07293819555696593, 0.07293819555696593, 0.07293819555696593, 0.07293819555696593, 0.07293819555696593, 0.07293819555696593, 0.07293819555696593, 0.07293819555696593, 0.07293819555696593, 0.07293819555696593, 0.07293819555696593, 0.07293819555696593, 0.07293819555696593, 0.07293819555696593, 0.07484832135112236, 0.07484832135112236]}], \"weighted_accuracy\": [{\"categories\": [\"0\", \"1\", \"2\", \"3\", \"4\", \"5\", \"6\", \"7\", \"8\", \"9\", \"10\", \"11\", \"12\", \"13\", \"14\", \"15\", \"16\", \"17\", \"18\", \"19\", \"20\", \"21\", \"22\", \"23\", \"24\", \"25\", \"26\", \"27\", \"28\"], \"mode\": \"markers\", \"name\": \"weighted_accuracy\", \"stepped\": false, \"type\": \"scatter\", \"data\": [0.12568092605944084, 0.06256709124409197, 0.013742690058479534, 0.002631578947368422, 0.0054093567251462, 0.0, 0.0054093567251462, 0.04575422574701595, 0.030295201474004652, 0.0027777777777777783, 0.0054093567251462, 0.0190759432828647, 0.06256709124409197, 0.0, 0.05496475206280542, 0.06812264679964754, 0.07349395177441323, 0.016482416085876795, 0.06534486902186976, 0.06256709124409197, 0.05964311463590485, 0.005517503805175038, 0.05427180966113916, 0.040605223103420664, 0.04334494913081792, 0.008187134502923979, 0.0190759432828647, 0.12845870383721864, 0.05690338860850759]}, {\"categories\": [\"0\", \"1\", \"2\", \"3\", \"4\", \"5\", \"6\", \"7\", \"8\", \"9\", \"10\", \"11\", \"12\", \"13\", \"14\", \"15\", \"16\", \"17\", \"18\", \"19\", \"20\", \"21\", \"22\", \"23\", \"24\", \"25\", \"26\", \"27\", \"28\"], \"mode\": \"lines\", \"name\": \"weighted_accuracy_max\", \"stepped\": true, \"type\": \"scatter\", \"data\": [0.12568092605944084, 0.12568092605944084, 0.12568092605944084, 0.12568092605944084, 0.12568092605944084, 0.12568092605944084, 0.12568092605944084, 0.12568092605944084, 0.12568092605944084, 0.12568092605944084, 0.12568092605944084, 0.12568092605944084, 0.12568092605944084, 0.12568092605944084, 0.12568092605944084, 0.12568092605944084, 0.12568092605944084, 0.12568092605944084, 0.12568092605944084, 0.12568092605944084, 0.12568092605944084, 0.12568092605944084, 0.12568092605944084, 0.12568092605944084, 0.12568092605944084, 0.12568092605944084, 0.12568092605944084, 0.12845870383721864, 0.12845870383721864]}], \"precision_score_micro\": [{\"categories\": [\"0\", \"1\", \"2\", \"3\", \"4\", \"5\", \"6\", \"7\", \"8\", \"9\", \"10\", \"11\", \"12\", \"13\", \"14\", \"15\", \"16\", \"17\", \"18\", \"19\", \"20\", \"21\", \"22\", \"23\", \"24\", \"25\", \"26\", \"27\", \"28\"], \"mode\": \"markers\", \"name\": \"precision_score_micro\", \"stepped\": false, \"type\": \"scatter\", \"data\": [0.12392449517120281, 0.05605794556628622, 0.011764705882352941, 0.0029411764705882353, 0.0058823529411764705, 0.0, 0.0058823529411764705, 0.044293239683933276, 0.02954345917471466, 0.0029411764705882353, 0.0058823529411764705, 0.020676031606672522, 0.05605794556628622, 0.0, 0.05311676909569798, 0.06194029850746269, 0.06786654960491659, 0.017690956979806848, 0.05899912203687445, 0.05605794556628622, 0.05605794556628622, 0.0059262510974539065, 0.05013169446883231, 0.03239683933274802, 0.038323090430201934, 0.008823529411764706, 0.020676031606672522, 0.12686567164179102, 0.05307287093942055]}, {\"categories\": [\"0\", \"1\", \"2\", \"3\", \"4\", \"5\", \"6\", \"7\", \"8\", \"9\", \"10\", \"11\", \"12\", \"13\", \"14\", \"15\", \"16\", \"17\", \"18\", \"19\", \"20\", \"21\", \"22\", \"23\", \"24\", \"25\", \"26\", \"27\", \"28\"], \"mode\": \"lines\", \"name\": \"precision_score_micro_max\", \"stepped\": true, \"type\": \"scatter\", \"data\": [0.12392449517120281, 0.12392449517120281, 0.12392449517120281, 0.12392449517120281, 0.12392449517120281, 0.12392449517120281, 0.12392449517120281, 0.12392449517120281, 0.12392449517120281, 0.12392449517120281, 0.12392449517120281, 0.12392449517120281, 0.12392449517120281, 0.12392449517120281, 0.12392449517120281, 0.12392449517120281, 0.12392449517120281, 0.12392449517120281, 0.12392449517120281, 0.12392449517120281, 0.12392449517120281, 0.12392449517120281, 0.12392449517120281, 0.12392449517120281, 0.12392449517120281, 0.12392449517120281, 0.12392449517120281, 0.12686567164179102, 0.12686567164179102]}], \"accuracy\": [{\"categories\": [\"0\", \"1\", \"2\", \"3\", \"4\", \"5\", \"6\", \"7\", \"8\", \"9\", \"10\", \"11\", \"12\", \"13\", \"14\", \"15\", \"16\", \"17\", \"18\", \"19\", \"20\", \"21\", \"22\", \"23\", \"24\", \"25\", \"26\", \"27\", \"28\"], \"mode\": \"markers\", \"name\": \"accuracy\", \"stepped\": false, \"type\": \"scatter\", \"data\": [0.12392449517120281, 0.05605794556628622, 0.011764705882352941, 0.0029411764705882353, 0.0058823529411764705, 0.0, 0.0058823529411764705, 0.044293239683933276, 0.02954345917471466, 0.0029411764705882353, 0.0058823529411764705, 0.020676031606672522, 0.05605794556628622, 0.0, 0.05311676909569798, 0.06194029850746269, 0.06786654960491659, 0.017690956979806848, 0.05899912203687445, 0.05605794556628622, 0.05605794556628622, 0.0059262510974539065, 0.05013169446883231, 0.03239683933274802, 0.038323090430201934, 0.008823529411764706, 0.020676031606672522, 0.12686567164179102, 0.05307287093942055]}, {\"categories\": [\"0\", \"1\", \"2\", \"3\", \"4\", \"5\", \"6\", \"7\", \"8\", \"9\", \"10\", \"11\", \"12\", \"13\", \"14\", \"15\", \"16\", \"17\", \"18\", \"19\", \"20\", \"21\", \"22\", \"23\", \"24\", \"25\", \"26\", \"27\", \"28\"], \"mode\": \"lines\", \"name\": \"accuracy_max\", \"stepped\": true, \"type\": \"scatter\", \"data\": [0.12392449517120281, 0.12392449517120281, 0.12392449517120281, 0.12392449517120281, 0.12392449517120281, 0.12392449517120281, 0.12392449517120281, 0.12392449517120281, 0.12392449517120281, 0.12392449517120281, 0.12392449517120281, 0.12392449517120281, 0.12392449517120281, 0.12392449517120281, 0.12392449517120281, 0.12392449517120281, 0.12392449517120281, 0.12392449517120281, 0.12392449517120281, 0.12392449517120281, 0.12392449517120281, 0.12392449517120281, 0.12392449517120281, 0.12392449517120281, 0.12392449517120281, 0.12392449517120281, 0.12392449517120281, 0.12686567164179102, 0.12686567164179102]}], \"matthews_correlation\": [{\"categories\": [\"0\", \"1\", \"2\", \"3\", \"4\", \"5\", \"6\", \"7\", \"8\", \"9\", \"10\", \"11\", \"12\", \"13\", \"14\", \"15\", \"16\", \"17\", \"18\", \"19\", \"20\", \"21\", \"22\", \"23\", \"24\", \"25\", \"26\", \"27\", \"28\"], \"mode\": \"markers\", \"name\": \"matthews_correlation\", \"stepped\": false, \"type\": \"scatter\", \"data\": [0.12303530789216448, 0.05447072860345888, 0.011363110049593941, 0.0012648960499866578, 0.0, -0.001230916944477562, 0.003737488228908018, 0.04283671448520064, 0.02859699431125091, 0.00224869267270733, 0.0, 0.02001744326542931, 0.05462917944279204, 0.0, 0.052255646680524556, 0.06037580167540839, 0.06678830317215725, 0.016091679118904908, 0.057824396886581364, 0.05471654414349061, 0.0544523737386128, 0.004942425556175937, 0.04878889130991276, 0.03175334071548715, 0.037636401398071846, 0.007822621919655869, 0.01961706424345406, 0.12592141269193516, 0.0708782141655331]}, {\"categories\": [\"0\", \"1\", \"2\", \"3\", \"4\", \"5\", \"6\", \"7\", \"8\", \"9\", \"10\", \"11\", \"12\", \"13\", \"14\", \"15\", \"16\", \"17\", \"18\", \"19\", \"20\", \"21\", \"22\", \"23\", \"24\", \"25\", \"26\", \"27\", \"28\"], \"mode\": \"lines\", \"name\": \"matthews_correlation_max\", \"stepped\": true, \"type\": \"scatter\", \"data\": [0.12303530789216448, 0.12303530789216448, 0.12303530789216448, 0.12303530789216448, 0.12303530789216448, 0.12303530789216448, 0.12303530789216448, 0.12303530789216448, 0.12303530789216448, 0.12303530789216448, 0.12303530789216448, 0.12303530789216448, 0.12303530789216448, 0.12303530789216448, 0.12303530789216448, 0.12303530789216448, 0.12303530789216448, 0.12303530789216448, 0.12303530789216448, 0.12303530789216448, 0.12303530789216448, 0.12303530789216448, 0.12303530789216448, 0.12303530789216448, 0.12303530789216448, 0.12303530789216448, 0.12303530789216448, 0.12592141269193516, 0.12592141269193516]}], \"f1_score_weighted\": [{\"categories\": [\"0\", \"1\", \"2\", \"3\", \"4\", \"5\", \"6\", \"7\", \"8\", \"9\", \"10\", \"11\", \"12\", \"13\", \"14\", \"15\", \"16\", \"17\", \"18\", \"19\", \"20\", \"21\", \"22\", \"23\", \"24\", \"25\", \"26\", \"27\", \"28\"], \"mode\": \"markers\", \"name\": \"f1_score_weighted\", \"stepped\": false, \"type\": \"scatter\", \"data\": [0.11557652911911032, 0.04368974455453823, 0.010784313725490196, 0.0003095975232198142, 0.00017050298380221653, 0.0, 0.00196078431372549, 0.03433274802458297, 0.022902033947907522, 0.0029411764705882353, 0.00017050298380221653, 0.009657214310418877, 0.04954638571846649, 0.0, 0.04548580626280364, 0.05179836113549898, 0.05792361720807726, 0.005231963432139024, 0.05446297922153935, 0.05132572431957858, 0.03944479284251014, 0.003166520339479075, 0.04031314018144572, 0.03190664325431665, 0.03144571261340357, 0.0022502334267040145, 0.011774217149546387, 0.11458150424348842, 0.04560963564530289]}, {\"categories\": [\"0\", \"1\", \"2\", \"3\", \"4\", \"5\", \"6\", \"7\", \"8\", \"9\", \"10\", \"11\", \"12\", \"13\", \"14\", \"15\", \"16\", \"17\", \"18\", \"19\", \"20\", \"21\", \"22\", \"23\", \"24\", \"25\", \"26\", \"27\", \"28\"], \"mode\": \"lines\", \"name\": \"f1_score_weighted_max\", \"stepped\": true, \"type\": \"scatter\", \"data\": [0.11557652911911032, 0.11557652911911032, 0.11557652911911032, 0.11557652911911032, 0.11557652911911032, 0.11557652911911032, 0.11557652911911032, 0.11557652911911032, 0.11557652911911032, 0.11557652911911032, 0.11557652911911032, 0.11557652911911032, 0.11557652911911032, 0.11557652911911032, 0.11557652911911032, 0.11557652911911032, 0.11557652911911032, 0.11557652911911032, 0.11557652911911032, 0.11557652911911032, 0.11557652911911032, 0.11557652911911032, 0.11557652911911032, 0.11557652911911032, 0.11557652911911032, 0.11557652911911032, 0.11557652911911032, 0.11557652911911032, 0.11557652911911032]}], \"AUC_micro\": [{\"categories\": [\"0\", \"1\", \"2\", \"3\", \"4\", \"5\", \"6\", \"7\", \"8\", \"9\", \"10\", \"11\", \"12\", \"13\", \"14\", \"15\", \"16\", \"17\", \"18\", \"19\", \"20\", \"21\", \"22\", \"23\", \"24\", \"25\", \"26\", \"27\", \"28\"], \"mode\": \"markers\", \"name\": \"AUC_micro\", \"stepped\": false, \"type\": \"scatter\", \"data\": [0.26857434001243, 0.2602967065284073, 0.2437516269070102, 0.19109176582348944, 0.21862026252939337, 0.21059305061679473, 0.21144711622315082, 0.24045591126337965, 0.2463829131515849, 0.20952361171100406, 0.21862026252939337, 0.24763771124537373, 0.23408158118414146, 0.20911692565555606, 0.2578571350416248, 0.26136951357405425, 0.2970688276380401, 0.24246008337445132, 0.2608707741647132, 0.42125266080201856, 0.2624420225841901, 0.21130793955200944, 0.25442095782035024, 0.24924155241598117, 0.2339842164712344, 0.20930917151387546, 0.2680865756306583, 0.2638041158539338, 0.2569308123064937]}, {\"categories\": [\"0\", \"1\", \"2\", \"3\", \"4\", \"5\", \"6\", \"7\", \"8\", \"9\", \"10\", \"11\", \"12\", \"13\", \"14\", \"15\", \"16\", \"17\", \"18\", \"19\", \"20\", \"21\", \"22\", \"23\", \"24\", \"25\", \"26\", \"27\", \"28\"], \"mode\": \"lines\", \"name\": \"AUC_micro_max\", \"stepped\": true, \"type\": \"scatter\", \"data\": [0.26857434001243, 0.26857434001243, 0.26857434001243, 0.26857434001243, 0.26857434001243, 0.26857434001243, 0.26857434001243, 0.26857434001243, 0.26857434001243, 0.26857434001243, 0.26857434001243, 0.26857434001243, 0.26857434001243, 0.26857434001243, 0.26857434001243, 0.26857434001243, 0.2970688276380401, 0.2970688276380401, 0.2970688276380401, 0.42125266080201856, 0.42125266080201856, 0.42125266080201856, 0.42125266080201856, 0.42125266080201856, 0.42125266080201856, 0.42125266080201856, 0.42125266080201856, 0.42125266080201856, 0.42125266080201856]}], \"average_precision_score_macro\": [{\"categories\": [\"0\", \"1\", \"2\", \"3\", \"4\", \"5\", \"6\", \"7\", \"8\", \"9\", \"10\", \"11\", \"12\", \"13\", \"14\", \"15\", \"16\", \"17\", \"18\", \"19\", \"20\", \"21\", \"22\", \"23\", \"24\", \"25\", \"26\", \"27\", \"28\"], \"mode\": \"markers\", \"name\": \"average_precision_score_macro\", \"stepped\": false, \"type\": \"scatter\", \"data\": [0.1523736066620244, 0.10452958912985273, 0.0834192634857697, 0.020917728889584486, 0.01534090909090909, 0.025411402696516844, 0.030221468933650388, 0.0921631773774563, 0.08916028176954358, 0.02945491250068636, 0.01534090909090909, 0.061962211806200096, 0.08888250891038008, 0.01534090909090909, 0.11568581491442687, 0.10095415185309035, 0.11179691173543335, 0.05921049395944544, 0.0987368733893064, 0.09850396655126627, 0.0971842330143036, 0.03764070720520006, 0.09239006078455658, 0.0818900151643748, 0.08323515365816851, 0.030780897295156873, 0.08447811017841667, 0.1489347644092335, 0.13819609427116694]}, {\"categories\": [\"0\", \"1\", \"2\", \"3\", \"4\", \"5\", \"6\", \"7\", \"8\", \"9\", \"10\", \"11\", \"12\", \"13\", \"14\", \"15\", \"16\", \"17\", \"18\", \"19\", \"20\", \"21\", \"22\", \"23\", \"24\", \"25\", \"26\", \"27\", \"28\"], \"mode\": \"lines\", \"name\": \"average_precision_score_macro_max\", \"stepped\": true, \"type\": \"scatter\", \"data\": [0.1523736066620244, 0.1523736066620244, 0.1523736066620244, 0.1523736066620244, 0.1523736066620244, 0.1523736066620244, 0.1523736066620244, 0.1523736066620244, 0.1523736066620244, 0.1523736066620244, 0.1523736066620244, 0.1523736066620244, 0.1523736066620244, 0.1523736066620244, 0.1523736066620244, 0.1523736066620244, 0.1523736066620244, 0.1523736066620244, 0.1523736066620244, 0.1523736066620244, 0.1523736066620244, 0.1523736066620244, 0.1523736066620244, 0.1523736066620244, 0.1523736066620244, 0.1523736066620244, 0.1523736066620244, 0.1523736066620244, 0.1523736066620244]}], \"f1_score_macro\": [{\"categories\": [\"0\", \"1\", \"2\", \"3\", \"4\", \"5\", \"6\", \"7\", \"8\", \"9\", \"10\", \"11\", \"12\", \"13\", \"14\", \"15\", \"16\", \"17\", \"18\", \"19\", \"20\", \"21\", \"22\", \"23\", \"24\", \"25\", \"26\", \"27\", \"28\"], \"mode\": \"markers\", \"name\": \"f1_score_macro\", \"stepped\": false, \"type\": \"scatter\", \"data\": [0.06718088105003957, 0.024018470637301014, 0.00628826969384245, 0.00031421838177533385, 0.00017841458058849365, 0.0, 0.0017486899065846432, 0.021799047596103655, 0.014986997635933804, 0.002857142857142857, 0.00017841458058849365, 0.00869061658343081, 0.026517708583795145, 0.0, 0.026536315041416646, 0.027926674207940354, 0.03361367079252258, 0.004588686335521779, 0.028595065375269384, 0.02729364194717342, 0.02464142217431691, 0.0030752242926155972, 0.022336111479209837, 0.015811533861992574, 0.01853825505566168, 0.0021441280866324277, 0.009352379572064029, 0.06659367803924107, 0.03790194218363232]}, {\"categories\": [\"0\", \"1\", \"2\", \"3\", \"4\", \"5\", \"6\", \"7\", \"8\", \"9\", \"10\", \"11\", \"12\", \"13\", \"14\", \"15\", \"16\", \"17\", \"18\", \"19\", \"20\", \"21\", \"22\", \"23\", \"24\", \"25\", \"26\", \"27\", \"28\"], \"mode\": \"lines\", \"name\": \"f1_score_macro_max\", \"stepped\": true, \"type\": \"scatter\", \"data\": [0.06718088105003957, 0.06718088105003957, 0.06718088105003957, 0.06718088105003957, 0.06718088105003957, 0.06718088105003957, 0.06718088105003957, 0.06718088105003957, 0.06718088105003957, 0.06718088105003957, 0.06718088105003957, 0.06718088105003957, 0.06718088105003957, 0.06718088105003957, 0.06718088105003957, 0.06718088105003957, 0.06718088105003957, 0.06718088105003957, 0.06718088105003957, 0.06718088105003957, 0.06718088105003957, 0.06718088105003957, 0.06718088105003957, 0.06718088105003957, 0.06718088105003957, 0.06718088105003957, 0.06718088105003957, 0.06718088105003957, 0.06718088105003957]}], \"precision_score_macro\": [{\"categories\": [\"0\", \"1\", \"2\", \"3\", \"4\", \"5\", \"6\", \"7\", \"8\", \"9\", \"10\", \"11\", \"12\", \"13\", \"14\", \"15\", \"16\", \"17\", \"18\", \"19\", \"20\", \"21\", \"22\", \"23\", \"24\", \"25\", \"26\", \"27\", \"28\"], \"mode\": \"markers\", \"name\": \"precision_score_macro\", \"stepped\": false, \"type\": \"scatter\", \"data\": [0.06563856292838594, 0.022382944165055402, 0.005970809376382132, 0.00016583747927031506, 9.051916221033867e-05, 0.0, 0.001113320491310922, 0.019594564164130402, 0.014516942474389283, 0.002857142857142857, 9.051916221033867e-05, 0.006570324085200317, 0.026023096493533394, 0.0, 0.025091843571957727, 0.02590575035799666, 0.032531770729065726, 0.0027871911036468, 0.028328596990893858, 0.027052087987135577, 0.021842445809551074, 0.0021635610766045548, 0.020586508757678028, 0.016111784070499666, 0.017253933096194805, 0.0012670861841226496, 0.007718615442403783, 0.06411961788169468, 0.03695628048376799]}, {\"categories\": [\"0\", \"1\", \"2\", \"3\", \"4\", \"5\", \"6\", \"7\", \"8\", \"9\", \"10\", \"11\", \"12\", \"13\", \"14\", \"15\", \"16\", \"17\", \"18\", \"19\", \"20\", \"21\", \"22\", \"23\", \"24\", \"25\", \"26\", \"27\", \"28\"], \"mode\": \"lines\", \"name\": \"precision_score_macro_max\", \"stepped\": true, \"type\": \"scatter\", \"data\": [0.06563856292838594, 0.06563856292838594, 0.06563856292838594, 0.06563856292838594, 0.06563856292838594, 0.06563856292838594, 0.06563856292838594, 0.06563856292838594, 0.06563856292838594, 0.06563856292838594, 0.06563856292838594, 0.06563856292838594, 0.06563856292838594, 0.06563856292838594, 0.06563856292838594, 0.06563856292838594, 0.06563856292838594, 0.06563856292838594, 0.06563856292838594, 0.06563856292838594, 0.06563856292838594, 0.06563856292838594, 0.06563856292838594, 0.06563856292838594, 0.06563856292838594, 0.06563856292838594, 0.06563856292838594, 0.06563856292838594, 0.06563856292838594]}], \"recall_score_macro\": [{\"categories\": [\"0\", \"1\", \"2\", \"3\", \"4\", \"5\", \"6\", \"7\", \"8\", \"9\", \"10\", \"11\", \"12\", \"13\", \"14\", \"15\", \"16\", \"17\", \"18\", \"19\", \"20\", \"21\", \"22\", \"23\", \"24\", \"25\", \"26\", \"27\", \"28\"], \"mode\": \"markers\", \"name\": \"recall_score_macro\", \"stepped\": false, \"type\": \"scatter\", \"data\": [0.07293819555696593, 0.032501628607746705, 0.006923190328763084, 0.0029850746268656717, 0.00615530303030303, 0.0, 0.005228981544771019, 0.02858566816834903, 0.020271867612293142, 0.002857142857142857, 0.00615530303030303, 0.018545079085333833, 0.031141757632361777, 0.0, 0.03166890773381385, 0.0344540577021253, 0.04076001378564511, 0.015495951647850384, 0.03191493242457056, 0.03084829695282192, 0.03700043742806901, 0.005755693581780538, 0.028906072517300884, 0.016425934751622823, 0.02370077728739872, 0.008373528844298669, 0.01654163100908873, 0.07484832135112236, 0.04541110627730346]}, {\"categories\": [\"0\", \"1\", \"2\", \"3\", \"4\", \"5\", \"6\", \"7\", \"8\", \"9\", \"10\", \"11\", \"12\", \"13\", \"14\", \"15\", \"16\", \"17\", \"18\", \"19\", \"20\", \"21\", \"22\", \"23\", \"24\", \"25\", \"26\", \"27\", \"28\"], \"mode\": \"lines\", \"name\": \"recall_score_macro_max\", \"stepped\": true, \"type\": \"scatter\", \"data\": [0.07293819555696593, 0.07293819555696593, 0.07293819555696593, 0.07293819555696593, 0.07293819555696593, 0.07293819555696593, 0.07293819555696593, 0.07293819555696593, 0.07293819555696593, 0.07293819555696593, 0.07293819555696593, 0.07293819555696593, 0.07293819555696593, 0.07293819555696593, 0.07293819555696593, 0.07293819555696593, 0.07293819555696593, 0.07293819555696593, 0.07293819555696593, 0.07293819555696593, 0.07293819555696593, 0.07293819555696593, 0.07293819555696593, 0.07293819555696593, 0.07293819555696593, 0.07293819555696593, 0.07293819555696593, 0.07484832135112236, 0.07484832135112236]}], \"precision_score_weighted\": [{\"categories\": [\"0\", \"1\", \"2\", \"3\", \"4\", \"5\", \"6\", \"7\", \"8\", \"9\", \"10\", \"11\", \"12\", \"13\", \"14\", \"15\", \"16\", \"17\", \"18\", \"19\", \"20\", \"21\", \"22\", \"23\", \"24\", \"25\", \"26\", \"27\", \"28\"], \"mode\": \"markers\", \"name\": \"precision_score_weighted\", \"stepped\": false, \"type\": \"scatter\", \"data\": [0.11507901668129938, 0.04277875329236172, 0.010294117647058823, 0.0001633986928104575, 8.650519031141868e-05, 0.0, 0.0012477718360071302, 0.03107696810067311, 0.023304799531753, 0.0029411764705882353, 8.650519031141868e-05, 0.007287825577992392, 0.0507089552238806, 0.0, 0.04418558468163385, 0.04948127011998829, 0.058203833772314896, 0.0031750228359095785, 0.056025021949078144, 0.05293678665496049, 0.03656716417910448, 0.0022278314310798944, 0.038541117939713196, 0.03337723148961076, 0.03055604331284753, 0.001329185520361991, 0.009737551737112757, 0.1126060872110038, 0.04556970838407583]}, {\"categories\": [\"0\", \"1\", \"2\", \"3\", \"4\", \"5\", \"6\", \"7\", \"8\", \"9\", \"10\", \"11\", \"12\", \"13\", \"14\", \"15\", \"16\", \"17\", \"18\", \"19\", \"20\", \"21\", \"22\", \"23\", \"24\", \"25\", \"26\", \"27\", \"28\"], \"mode\": \"lines\", \"name\": \"precision_score_weighted_max\", \"stepped\": true, \"type\": \"scatter\", \"data\": [0.11507901668129938, 0.11507901668129938, 0.11507901668129938, 0.11507901668129938, 0.11507901668129938, 0.11507901668129938, 0.11507901668129938, 0.11507901668129938, 0.11507901668129938, 0.11507901668129938, 0.11507901668129938, 0.11507901668129938, 0.11507901668129938, 0.11507901668129938, 0.11507901668129938, 0.11507901668129938, 0.11507901668129938, 0.11507901668129938, 0.11507901668129938, 0.11507901668129938, 0.11507901668129938, 0.11507901668129938, 0.11507901668129938, 0.11507901668129938, 0.11507901668129938, 0.11507901668129938, 0.11507901668129938, 0.11507901668129938, 0.11507901668129938]}], \"recall_score_micro\": [{\"categories\": [\"0\", \"1\", \"2\", \"3\", \"4\", \"5\", \"6\", \"7\", \"8\", \"9\", \"10\", \"11\", \"12\", \"13\", \"14\", \"15\", \"16\", \"17\", \"18\", \"19\", \"20\", \"21\", \"22\", \"23\", \"24\", \"25\", \"26\", \"27\", \"28\"], \"mode\": \"markers\", \"name\": \"recall_score_micro\", \"stepped\": false, \"type\": \"scatter\", \"data\": [0.12392449517120281, 0.05605794556628622, 0.011764705882352941, 0.0029411764705882353, 0.0058823529411764705, 0.0, 0.0058823529411764705, 0.044293239683933276, 0.02954345917471466, 0.0029411764705882353, 0.0058823529411764705, 0.020676031606672522, 0.05605794556628622, 0.0, 0.05311676909569798, 0.06194029850746269, 0.06786654960491659, 0.017690956979806848, 0.05899912203687445, 0.05605794556628622, 0.05605794556628622, 0.0059262510974539065, 0.05013169446883231, 0.03239683933274802, 0.038323090430201934, 0.008823529411764706, 0.020676031606672522, 0.12686567164179102, 0.05307287093942055]}, {\"categories\": [\"0\", \"1\", \"2\", \"3\", \"4\", \"5\", \"6\", \"7\", \"8\", \"9\", \"10\", \"11\", \"12\", \"13\", \"14\", \"15\", \"16\", \"17\", \"18\", \"19\", \"20\", \"21\", \"22\", \"23\", \"24\", \"25\", \"26\", \"27\", \"28\"], \"mode\": \"lines\", \"name\": \"recall_score_micro_max\", \"stepped\": true, \"type\": \"scatter\", \"data\": [0.12392449517120281, 0.12392449517120281, 0.12392449517120281, 0.12392449517120281, 0.12392449517120281, 0.12392449517120281, 0.12392449517120281, 0.12392449517120281, 0.12392449517120281, 0.12392449517120281, 0.12392449517120281, 0.12392449517120281, 0.12392449517120281, 0.12392449517120281, 0.12392449517120281, 0.12392449517120281, 0.12392449517120281, 0.12392449517120281, 0.12392449517120281, 0.12392449517120281, 0.12392449517120281, 0.12392449517120281, 0.12392449517120281, 0.12392449517120281, 0.12392449517120281, 0.12392449517120281, 0.12392449517120281, 0.12686567164179102, 0.12686567164179102]}], \"average_precision_score_micro\": [{\"categories\": [\"0\", \"1\", \"2\", \"3\", \"4\", \"5\", \"6\", \"7\", \"8\", \"9\", \"10\", \"11\", \"12\", \"13\", \"14\", \"15\", \"16\", \"17\", \"18\", \"19\", \"20\", \"21\", \"22\", \"23\", \"24\", \"25\", \"26\", \"27\", \"28\"], \"mode\": \"markers\", \"name\": \"average_precision_score_micro\", \"stepped\": false, \"type\": \"scatter\", \"data\": [0.07839495077075824, 0.033124991070060006, 0.008864004381843173, 0.003214080647689453, 0.003029887577948056, 0.0032990986994046747, 0.003929936954899455, 0.021331636350061346, 0.012764117453848206, 0.0032706629308747828, 0.003029887577948056, 0.005922994950462987, 0.020590425350469798, 0.0029583825513826443, 0.014080117136932802, 0.032229461987528234, 0.023883834192102965, 0.004730532951779412, 0.023352512145221715, 0.04025524355541049, 0.012934561989686644, 0.0038319122066725305, 0.01905591950154318, 0.005875655932404968, 0.017846943348732183, 0.004527038104707873, 0.004541064778927103, 0.07319140243697717, 0.04720880003134681]}, {\"categories\": [\"0\", \"1\", \"2\", \"3\", \"4\", \"5\", \"6\", \"7\", \"8\", \"9\", \"10\", \"11\", \"12\", \"13\", \"14\", \"15\", \"16\", \"17\", \"18\", \"19\", \"20\", \"21\", \"22\", \"23\", \"24\", \"25\", \"26\", \"27\", \"28\"], \"mode\": \"lines\", \"name\": \"average_precision_score_micro_max\", \"stepped\": true, \"type\": \"scatter\", \"data\": [0.07839495077075824, 0.07839495077075824, 0.07839495077075824, 0.07839495077075824, 0.07839495077075824, 0.07839495077075824, 0.07839495077075824, 0.07839495077075824, 0.07839495077075824, 0.07839495077075824, 0.07839495077075824, 0.07839495077075824, 0.07839495077075824, 0.07839495077075824, 0.07839495077075824, 0.07839495077075824, 0.07839495077075824, 0.07839495077075824, 0.07839495077075824, 0.07839495077075824, 0.07839495077075824, 0.07839495077075824, 0.07839495077075824, 0.07839495077075824, 0.07839495077075824, 0.07839495077075824, 0.07839495077075824, 0.07839495077075824, 0.07839495077075824]}], \"AUC_weighted\": [{\"categories\": [\"0\", \"1\", \"2\", \"3\", \"4\", \"5\", \"6\", \"7\", \"8\", \"9\", \"10\", \"11\", \"12\", \"13\", \"14\", \"15\", \"16\", \"17\", \"18\", \"19\", \"20\", \"21\", \"22\", \"23\", \"24\", \"25\", \"26\", \"27\", \"28\"], \"mode\": \"markers\", \"name\": \"AUC_weighted\", \"stepped\": false, \"type\": \"scatter\", \"data\": [0.5802599405277193, 0.5648525369859874, 0.5499397705016669, 0.47994666220522236, 0.5, 0.4916183172987387, 0.5008934349232856, 0.5364660551622799, 0.5498158272807088, 0.4883369147679947, 0.5, 0.5541381226324159, 0.5385491608186954, 0.5, 0.5677147786366399, 0.5816482273944961, 0.5726099858584495, 0.5490526184380442, 0.5670987411768799, 0.559450249779486, 0.5673023406210412, 0.507995025898889, 0.5500361008613862, 0.5572758738188941, 0.5375892647007661, 0.4907462277260346, 0.5878031991420929, 0.573112062067286, 0.5657989669095903]}, {\"categories\": [\"0\", \"1\", \"2\", \"3\", \"4\", \"5\", \"6\", \"7\", \"8\", \"9\", \"10\", \"11\", \"12\", \"13\", \"14\", \"15\", \"16\", \"17\", \"18\", \"19\", \"20\", \"21\", \"22\", \"23\", \"24\", \"25\", \"26\", \"27\", \"28\"], \"mode\": \"lines\", \"name\": \"AUC_weighted_max\", \"stepped\": true, \"type\": \"scatter\", \"data\": [0.5802599405277193, 0.5802599405277193, 0.5802599405277193, 0.5802599405277193, 0.5802599405277193, 0.5802599405277193, 0.5802599405277193, 0.5802599405277193, 0.5802599405277193, 0.5802599405277193, 0.5802599405277193, 0.5802599405277193, 0.5802599405277193, 0.5802599405277193, 0.5802599405277193, 0.5816482273944961, 0.5816482273944961, 0.5816482273944961, 0.5816482273944961, 0.5816482273944961, 0.5816482273944961, 0.5816482273944961, 0.5816482273944961, 0.5816482273944961, 0.5816482273944961, 0.5816482273944961, 0.5878031991420929, 0.5878031991420929, 0.5878031991420929]}]}, \"metricName\": null, \"primaryMetricName\": \"accuracy\", \"showLegend\": false}, \"run_metrics\": [{\"name\": \"average_precision_score_micro\", \"run_id\": \"AutoML_9ce1be7f-4a78-4c80-88f1-72fafa36b811\", \"categories\": [0], \"series\": [{\"data\": [0.07319140243697717]}]}, {\"name\": \"recall_score_micro\", \"run_id\": \"AutoML_9ce1be7f-4a78-4c80-88f1-72fafa36b811\", \"categories\": [0], \"series\": [{\"data\": [0.12686567164179102]}]}, {\"name\": \"AUC_weighted\", \"run_id\": \"AutoML_9ce1be7f-4a78-4c80-88f1-72fafa36b811\", \"categories\": [0], \"series\": [{\"data\": [0.573112062067286]}]}, {\"name\": \"matthews_correlation\", \"run_id\": \"AutoML_9ce1be7f-4a78-4c80-88f1-72fafa36b811\", \"categories\": [0], \"series\": [{\"data\": [0.12592141269193516]}]}, {\"name\": \"average_precision_score_weighted\", \"run_id\": \"AutoML_9ce1be7f-4a78-4c80-88f1-72fafa36b811\", \"categories\": [0], \"series\": [{\"data\": [0.15138944214580163]}]}, {\"name\": \"accuracy\", \"run_id\": \"AutoML_9ce1be7f-4a78-4c80-88f1-72fafa36b811\", \"categories\": [0], \"series\": [{\"data\": [0.12686567164179102]}]}, {\"name\": \"f1_score_weighted\", \"run_id\": \"AutoML_9ce1be7f-4a78-4c80-88f1-72fafa36b811\", \"categories\": [0], \"series\": [{\"data\": [0.11458150424348842]}]}, {\"name\": \"log_loss\", \"run_id\": \"AutoML_9ce1be7f-4a78-4c80-88f1-72fafa36b811\", \"categories\": [0], \"series\": [{\"data\": [27.315216135634834]}]}, {\"name\": \"recall_score_weighted\", \"run_id\": \"AutoML_9ce1be7f-4a78-4c80-88f1-72fafa36b811\", \"categories\": [0], \"series\": [{\"data\": [0.12686567164179102]}]}, {\"name\": \"AUC_micro\", \"run_id\": \"AutoML_9ce1be7f-4a78-4c80-88f1-72fafa36b811\", \"categories\": [0], \"series\": [{\"data\": [0.2638041158539338]}]}, {\"name\": \"precision_score_macro\", \"run_id\": \"AutoML_9ce1be7f-4a78-4c80-88f1-72fafa36b811\", \"categories\": [0], \"series\": [{\"data\": [0.06411961788169468]}]}, {\"name\": \"f1_score_macro\", \"run_id\": \"AutoML_9ce1be7f-4a78-4c80-88f1-72fafa36b811\", \"categories\": [0], \"series\": [{\"data\": [0.06659367803924107]}]}, {\"name\": \"precision_score_micro\", \"run_id\": \"AutoML_9ce1be7f-4a78-4c80-88f1-72fafa36b811\", \"categories\": [0], \"series\": [{\"data\": [0.12686567164179102]}]}, {\"name\": \"average_precision_score_macro\", \"run_id\": \"AutoML_9ce1be7f-4a78-4c80-88f1-72fafa36b811\", \"categories\": [0], \"series\": [{\"data\": [0.1489347644092335]}]}, {\"name\": \"recall_score_macro\", \"run_id\": \"AutoML_9ce1be7f-4a78-4c80-88f1-72fafa36b811\", \"categories\": [0], \"series\": [{\"data\": [0.07484832135112236]}]}, {\"name\": \"f1_score_micro\", \"run_id\": \"AutoML_9ce1be7f-4a78-4c80-88f1-72fafa36b811\", \"categories\": [0], \"series\": [{\"data\": [0.12686567164179102]}]}, {\"name\": \"weighted_accuracy\", \"run_id\": \"AutoML_9ce1be7f-4a78-4c80-88f1-72fafa36b811\", \"categories\": [0], \"series\": [{\"data\": [0.12845870383721864]}]}, {\"name\": \"balanced_accuracy\", \"run_id\": \"AutoML_9ce1be7f-4a78-4c80-88f1-72fafa36b811\", \"categories\": [0], \"series\": [{\"data\": [0.07484832135112236]}]}, {\"name\": \"norm_macro_recall\", \"run_id\": \"AutoML_9ce1be7f-4a78-4c80-88f1-72fafa36b811\", \"categories\": [0], \"series\": [{\"data\": [0.12627594627594627]}]}, {\"name\": \"AUC_macro\", \"run_id\": \"AutoML_9ce1be7f-4a78-4c80-88f1-72fafa36b811\", \"categories\": [0], \"series\": [{\"data\": [0.5725069503088499]}]}, {\"name\": \"precision_score_weighted\", \"run_id\": \"AutoML_9ce1be7f-4a78-4c80-88f1-72fafa36b811\", \"categories\": [0], \"series\": [{\"data\": [0.1126060872110038]}]}], \"run_logs\": \"\\nRun is completed.\", \"graph\": {}, \"widget_settings\": {\"childWidgetDisplay\": \"popup\", \"send_telemetry\": false, \"log_level\": \"INFO\", \"sdk_version\": \"1.49.0\"}, \"loading\": false}"
          },
          "metadata": {}
        }
      ],
      "execution_count": 17,
      "metadata": {
        "gather": {
          "logged": 1683731726556
        },
        "jupyter": {
          "outputs_hidden": false,
          "source_hidden": false
        },
        "nteract": {
          "transient": {
            "deleting": false
          }
        }
      }
    },
    {
      "cell_type": "markdown",
      "source": [
        "## Best Model\n",
        "\n",
        "TODO: In the cell below, get the best model from the automl experiments and display all the properties of the model.\n",
        "\n"
      ],
      "metadata": {}
    },
    {
      "cell_type": "code",
      "source": [
        "best_model = remote_run.get_best_child()\r\n",
        "print(best_model)"
      ],
      "outputs": [
        {
          "output_type": "stream",
          "name": "stdout",
          "text": "Run(Experiment: auto_ml_experiment,\nId: AutoML_9ce1be7f-4a78-4c80-88f1-72fafa36b811_27,\nType: None,\nStatus: Completed)\n"
        }
      ],
      "execution_count": 15,
      "metadata": {
        "gather": {
          "logged": 1683729933442
        },
        "jupyter": {
          "outputs_hidden": false,
          "source_hidden": false
        },
        "nteract": {
          "transient": {
            "deleting": false
          }
        }
      }
    },
    {
      "cell_type": "code",
      "source": [
        "#TODO: Save the best model"
      ],
      "outputs": [],
      "execution_count": null,
      "metadata": {
        "gather": {
          "logged": 1598431426111
        },
        "jupyter": {
          "outputs_hidden": false,
          "source_hidden": false
        },
        "nteract": {
          "transient": {
            "deleting": false
          }
        }
      }
    },
    {
      "cell_type": "markdown",
      "source": [
        "## Model Deployment\n",
        "\n",
        "Remember you have to deploy only one of the two models you trained but you still need to register both the models. Perform the steps in the rest of this notebook only if you wish to deploy this model.\n",
        "\n",
        "TODO: In the cell below, register the model, create an inference config and deploy the model as a web service."
      ],
      "metadata": {}
    },
    {
      "cell_type": "code",
      "source": [
        "model = Model.register(\r\n",
        "    model_name='auto-ml-model',\r\n",
        "    workspace=ws,\r\n",
        "    model_path=f'runs:/{best_model.id}'\r\n",
        ")"
      ],
      "outputs": [
        {
          "output_type": "execute_result",
          "execution_count": 29,
          "data": {
            "text/plain": "'/runs/{0}'"
          },
          "metadata": {}
        }
      ],
      "execution_count": 29,
      "metadata": {
        "gather": {
          "logged": 1683733347624
        },
        "jupyter": {
          "outputs_hidden": false,
          "source_hidden": false
        },
        "nteract": {
          "transient": {
            "deleting": false
          }
        }
      }
    },
    {
      "cell_type": "markdown",
      "source": [
        "TODO: In the cell below, send a request to the web service you deployed to test it."
      ],
      "metadata": {
        "collapsed": true,
        "gather": {
          "logged": 1598431657736
        },
        "jupyter": {
          "outputs_hidden": false,
          "source_hidden": false
        },
        "nteract": {
          "transient": {
            "deleting": false
          }
        }
      }
    },
    {
      "cell_type": "code",
      "source": [],
      "outputs": [],
      "execution_count": null,
      "metadata": {
        "gather": {
          "logged": 1598432707604
        },
        "jupyter": {
          "outputs_hidden": false,
          "source_hidden": false
        },
        "nteract": {
          "transient": {
            "deleting": false
          }
        }
      }
    },
    {
      "cell_type": "markdown",
      "source": [
        "TODO: In the cell below, print the logs of the web service and delete the service"
      ],
      "metadata": {
        "collapsed": true,
        "gather": {
          "logged": 1598432765711
        },
        "jupyter": {
          "outputs_hidden": false,
          "source_hidden": false
        },
        "nteract": {
          "transient": {
            "deleting": false
          }
        }
      }
    },
    {
      "cell_type": "code",
      "source": [],
      "outputs": [],
      "execution_count": null,
      "metadata": {
        "jupyter": {
          "outputs_hidden": false,
          "source_hidden": false
        },
        "nteract": {
          "transient": {
            "deleting": false
          }
        }
      }
    },
    {
      "cell_type": "markdown",
      "source": [
        "**Submission Checklist**\n",
        "- I have registered the model.\n",
        "- I have deployed the model with the best accuracy as a webservice.\n",
        "- I have tested the webservice by sending a request to the model endpoint.\n",
        "- I have deleted the webservice and shutdown all the computes that I have used.\n",
        "- I have taken a screenshot showing the model endpoint as active.\n",
        "- The project includes a file containing the environment details.\n"
      ],
      "metadata": {}
    },
    {
      "cell_type": "markdown",
      "source": [],
      "metadata": {}
    }
  ],
  "metadata": {
    "kernel_info": {
      "name": "python38-azureml"
    },
    "kernelspec": {
      "name": "python38-azureml",
      "language": "python",
      "display_name": "Python 3.8 - AzureML"
    },
    "language_info": {
      "name": "python",
      "version": "3.8.5",
      "mimetype": "text/x-python",
      "codemirror_mode": {
        "name": "ipython",
        "version": 3
      },
      "pygments_lexer": "ipython3",
      "nbconvert_exporter": "python",
      "file_extension": ".py"
    },
    "nteract": {
      "version": "nteract-front-end@1.0.0"
    },
    "microsoft": {
      "host": {
        "AzureML": {
          "notebookHasBeenCompleted": true
        }
      },
      "ms_spell_check": {
        "ms_spell_check_language": "en"
      }
    }
  },
  "nbformat": 4,
  "nbformat_minor": 2
}